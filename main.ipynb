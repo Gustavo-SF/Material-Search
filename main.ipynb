{
 "cells": [
  {
   "cell_type": "markdown",
   "metadata": {},
   "source": [
    "# **Material Search**\n",
    "\n",
    "> This notebook is to be used for the Data Science MSc Thesis of Gustavo Fonseca. Data is provided by Mota Engil and should support the Supply Chain in the Mota-Engil group.\n",
    "\n",
    "---\n",
    "\n",
    "## **Introduction**\n",
    "\n",
    "**Objective**: cluster the materials by similarity to each other. Ideally we are going to be able to categorize according to the similarity of the materials.\n",
    "\n",
    "I start by:\n",
    "1. Exploring the dataset and showing why I end up not using a lot of information;\n",
    "2. Test levenshtein distance betweeen words and custom distance metric for sentences that uses word levenshtein distance;\n",
    "3. Optimize the code in order to be able to process all the materials;\n",
    "4. Apply it to DBScan to obtain clusters.\n",
    "\n",
    "## **Imports**"
   ]
  },
  {
   "cell_type": "code",
   "execution_count": 1,
   "metadata": {},
   "outputs": [
    {
     "name": "stdout",
     "output_type": "stream",
     "text": [
      "UTF-8\n"
     ]
    }
   ],
   "source": [
    "# Imports to get data from Azure\n",
    "import json\n",
    "import pyodbc\n",
    "import textwrap\n",
    "\n",
    "# Standard imports\n",
    "import pandas as pd\n",
    "from matplotlib import pyplot as plt\n",
    "import seaborn as sns\n",
    "import numpy as np\n",
    "import editdistance as ed\n",
    "from collections import Counter\n",
    "import unicodedata as unic\n",
    "import re\n",
    "\n",
    "# Text Processing\n",
    "import string\n",
    "from nltk import pos_tag\n",
    "from nltk.corpus import stopwords\n",
    "from nltk.stem import WordNetLemmatizer\n",
    "from nltk.corpus import wordnet\n",
    "\n",
    "# Clustering models\n",
    "from sklearn.cluster import DBSCAN\n",
    "from sklearn.neighbors import NearestNeighbors\n",
    "\n",
    "# MP for distance calculation\n",
    "from multiprocessing import cpu_count, Pool, sharedctypes\n",
    "\n",
    "import locale\n",
    "print(locale.getpreferredencoding())\n",
    "%matplotlib inline"
   ]
  },
  {
   "cell_type": "markdown",
   "metadata": {},
   "source": [
    "## **Connect and Extract the data from Azure SQL Database**\n",
    "\n",
    "Connect to SQL Database to Extract the data. I use an SQL Query to get more information from the materials."
   ]
  },
  {
   "cell_type": "code",
   "execution_count": 2,
   "metadata": {},
   "outputs": [],
   "source": [
    "GET_DATA = False\n",
    "\n",
    "if GET_DATA:\n",
    "    \n",
    "    with open('variables/variables.json') as f:\n",
    "          vars_ = json.load(f)\n",
    "\n",
    "\n",
    "    # Specify the Driver.\n",
    "    driver = '{ODBC Driver 17 for SQL Server}'\n",
    "\n",
    "    # Specify Server Name and Database Name.\n",
    "    server_name = vars_['server_name']\n",
    "    database = vars_['database']\n",
    "\n",
    "    # Create our Server URL.\n",
    "    server = f'{server_name}.database.windows.net,1433'\n",
    "\n",
    "    # Define Username & Password # TODO\n",
    "    login = vars_['login']\n",
    "    password = vars_['password']\n",
    "\n",
    "    # Create the full connection string.\n",
    "    connection_string = textwrap.dedent(f'''\n",
    "        Driver={driver};\n",
    "        Server={server};\n",
    "        Database={database};\n",
    "        Uid={login};\n",
    "        Pwd={password};\n",
    "        Encrypt=yes;\n",
    "        TrustServerCertificate=no;\n",
    "        Connection Timeout=30;\n",
    "    ''')\n",
    "\n",
    "    # Create a new PYODBC Connection Object\n",
    "    cnxn: pyodbc.Connection = pyodbc.connect(connection_string)\n",
    "\n",
    "    # Create a new Cursor Object from the connection\n",
    "    crsr: pyodbc.Cursor = cnxn.cursor()\n",
    "\n",
    "    # Define a select Query.\n",
    "    select_sql = \"\"\"SELECT zmm001.Material, \n",
    "    CAST(zmm001.MaterialDescription AS VARCHAR(MAX)) AS MaterialDescription, \n",
    "    zmm001.MaterialGroup, \n",
    "    CAST(zmm001.MaterialGroupDescription AS VARCHAR(MAX)) AS MaterialGroupDescription, \n",
    "    zmm001.Unit, \n",
    "    zmm001.MaterialType, \n",
    "    zmm001.Created, \n",
    "    zmm001.LastChange, \n",
    "    ISNULL(AVG(mb51view.ValuePerUnit), '0') as AveragePrice,\n",
    "    ISNULL(STDEV(mb51view.ValuePerUnit), '0') as STDPrice,\n",
    "    ISNULL(COUNT(mb51view.ValuePerUnit), '0') as CountMovements\n",
    "    FROM [PPP].[ZMM001] as zmm001\n",
    "    LEFT JOIN (\n",
    "    SELECT Material, MovementValueEuro / Quantity AS ValuePerUnit\n",
    "    FROM [PPP].[MB51view]\n",
    "    WHERE Quantity > 0\n",
    "    ) as mb51view\n",
    "    ON mb51view.Material=zmm001.Material\n",
    "    GROUP BY\n",
    "    zmm001.Material,\n",
    "    CAST(zmm001.MaterialDescription AS VARCHAR(MAX)),\n",
    "    zmm001.MaterialGroup,\n",
    "    CAST(zmm001.MaterialGroupDescription AS VARCHAR(MAX)),\n",
    "    zmm001.Unit,\n",
    "    zmm001.MaterialType,\n",
    "    zmm001.Created,\n",
    "    zmm001.LastChange\n",
    "    \"\"\"\n",
    "\n",
    "    # Read to Pandas\n",
    "    data = pd.read_sql(select_sql, cnxn)\n",
    "\n",
    "    # Close the connection once we are done\n",
    "    cnxn.close()\n",
    "    \n",
    "    data['Created'] = pd.to_datetime(data['Created'])\n",
    "    data['LastChange'] = pd.to_datetime(data['LastChange'])\n",
    "    data = data.replace(['', 'null', '#N/A'], [np.nan, np.nan, np.nan])\n",
    "    \n",
    "    data.to_csv('data/material_data.csv', index=False)\n",
    "\n",
    "else:\n",
    "    \n",
    "    data = pd.read_csv(\n",
    "        'data/material_data.csv', \n",
    "        dtype={\n",
    "            'Material': str, \n",
    "            'MaterialDescription': str, \n",
    "            'MaterialGroup': str, \n",
    "            'MaterialGroupDescription': str, \n",
    "            'Unit': str, \n",
    "            'MaterialType': str, \n",
    "            'Created': str, \n",
    "            'LastChange': str,\n",
    "            'AveragePrice': float,\n",
    "            'STDPrice': float,\n",
    "            'CountMovements': int\n",
    "        },\n",
    "        parse_dates=['Created', 'LastChange'])"
   ]
  },
  {
   "cell_type": "markdown",
   "metadata": {},
   "source": [
    "## **Data Exploration**\n",
    "\n",
    "This section is focused in analysing the data and seeing their worth for the purpose of this project. We want data that would allow to calculate similarities between the materials"
   ]
  },
  {
   "cell_type": "code",
   "execution_count": 3,
   "metadata": {},
   "outputs": [
    {
     "data": {
      "text/html": [
       "<div>\n",
       "<style scoped>\n",
       "    .dataframe tbody tr th:only-of-type {\n",
       "        vertical-align: middle;\n",
       "    }\n",
       "\n",
       "    .dataframe tbody tr th {\n",
       "        vertical-align: top;\n",
       "    }\n",
       "\n",
       "    .dataframe thead th {\n",
       "        text-align: right;\n",
       "    }\n",
       "</style>\n",
       "<table border=\"1\" class=\"dataframe\">\n",
       "  <thead>\n",
       "    <tr style=\"text-align: right;\">\n",
       "      <th></th>\n",
       "      <th>Material</th>\n",
       "      <th>MaterialDescription</th>\n",
       "      <th>MaterialGroup</th>\n",
       "      <th>MaterialGroupDescription</th>\n",
       "      <th>Unit</th>\n",
       "      <th>MaterialType</th>\n",
       "      <th>Created</th>\n",
       "      <th>LastChange</th>\n",
       "      <th>AveragePrice</th>\n",
       "      <th>STDPrice</th>\n",
       "      <th>CountMovements</th>\n",
       "    </tr>\n",
       "  </thead>\n",
       "  <tbody>\n",
       "    <tr>\n",
       "      <th>0</th>\n",
       "      <td>100001</td>\n",
       "      <td>G OFFICE FURNITURE</td>\n",
       "      <td>259807</td>\n",
       "      <td>Several Services</td>\n",
       "      <td>UN</td>\n",
       "      <td>ZSUB</td>\n",
       "      <td>2019-12-26</td>\n",
       "      <td>2021-05-02</td>\n",
       "      <td>0.0</td>\n",
       "      <td>0.0</td>\n",
       "      <td>0</td>\n",
       "    </tr>\n",
       "    <tr>\n",
       "      <th>1</th>\n",
       "      <td>100008</td>\n",
       "      <td>G BRICK MASONRIES</td>\n",
       "      <td>200101</td>\n",
       "      <td>Brick Masonries</td>\n",
       "      <td>UN</td>\n",
       "      <td>ZSUB</td>\n",
       "      <td>2019-12-08</td>\n",
       "      <td>2021-03-19</td>\n",
       "      <td>0.0</td>\n",
       "      <td>0.0</td>\n",
       "      <td>7</td>\n",
       "    </tr>\n",
       "    <tr>\n",
       "      <th>2</th>\n",
       "      <td>100009</td>\n",
       "      <td>G CONCRETE BLOCKS MASONRY</td>\n",
       "      <td>200102</td>\n",
       "      <td>Concrete Bolcks Masonry</td>\n",
       "      <td>UN</td>\n",
       "      <td>ZSUB</td>\n",
       "      <td>2019-12-08</td>\n",
       "      <td>2021-01-14</td>\n",
       "      <td>0.0</td>\n",
       "      <td>0.0</td>\n",
       "      <td>92</td>\n",
       "    </tr>\n",
       "    <tr>\n",
       "      <th>3</th>\n",
       "      <td>100012</td>\n",
       "      <td>G REINFORCING STEEL</td>\n",
       "      <td>200301</td>\n",
       "      <td>Reinforcing Steel</td>\n",
       "      <td>UN</td>\n",
       "      <td>ZSUB</td>\n",
       "      <td>2019-12-10</td>\n",
       "      <td>2021-05-02</td>\n",
       "      <td>0.0</td>\n",
       "      <td>0.0</td>\n",
       "      <td>21</td>\n",
       "    </tr>\n",
       "    <tr>\n",
       "      <th>4</th>\n",
       "      <td>100014</td>\n",
       "      <td>G EXTERIOR ARRANGEMENTS</td>\n",
       "      <td>200401</td>\n",
       "      <td>Exterior Arrangements</td>\n",
       "      <td>UN</td>\n",
       "      <td>ZSUB</td>\n",
       "      <td>2019-12-08</td>\n",
       "      <td>2021-05-02</td>\n",
       "      <td>0.0</td>\n",
       "      <td>0.0</td>\n",
       "      <td>70</td>\n",
       "    </tr>\n",
       "  </tbody>\n",
       "</table>\n",
       "</div>"
      ],
      "text/plain": [
       "  Material        MaterialDescription MaterialGroup MaterialGroupDescription  \\\n",
       "0   100001         G OFFICE FURNITURE        259807         Several Services   \n",
       "1   100008          G BRICK MASONRIES        200101          Brick Masonries   \n",
       "2   100009  G CONCRETE BLOCKS MASONRY        200102  Concrete Bolcks Masonry   \n",
       "3   100012        G REINFORCING STEEL        200301        Reinforcing Steel   \n",
       "4   100014    G EXTERIOR ARRANGEMENTS        200401    Exterior Arrangements   \n",
       "\n",
       "  Unit MaterialType    Created LastChange  AveragePrice  STDPrice  \\\n",
       "0   UN         ZSUB 2019-12-26 2021-05-02           0.0       0.0   \n",
       "1   UN         ZSUB 2019-12-08 2021-03-19           0.0       0.0   \n",
       "2   UN         ZSUB 2019-12-08 2021-01-14           0.0       0.0   \n",
       "3   UN         ZSUB 2019-12-10 2021-05-02           0.0       0.0   \n",
       "4   UN         ZSUB 2019-12-08 2021-05-02           0.0       0.0   \n",
       "\n",
       "   CountMovements  \n",
       "0               0  \n",
       "1               7  \n",
       "2              92  \n",
       "3              21  \n",
       "4              70  "
      ]
     },
     "execution_count": 3,
     "metadata": {},
     "output_type": "execute_result"
    }
   ],
   "source": [
    "data_p = data.copy()\n",
    "data_p.head()"
   ]
  },
  {
   "cell_type": "markdown",
   "metadata": {},
   "source": [
    "We start by fixing some found description problems:\n",
    "* Spacing\n",
    "* NaNs"
   ]
  },
  {
   "cell_type": "code",
   "execution_count": 4,
   "metadata": {},
   "outputs": [],
   "source": [
    "# Change 2 spacings to 1 spacing\n",
    "data_p = data_p.replace('\\s{2,}', ' ', regex=True)\n",
    "\n",
    "# NaN to None\n",
    "data_p = data_p.replace({np.nan: None})"
   ]
  },
  {
   "cell_type": "markdown",
   "metadata": {},
   "source": [
    "Get some general statistics for each of the columns"
   ]
  },
  {
   "cell_type": "code",
   "execution_count": 5,
   "metadata": {},
   "outputs": [
    {
     "data": {
      "text/html": [
       "<div>\n",
       "<style scoped>\n",
       "    .dataframe tbody tr th:only-of-type {\n",
       "        vertical-align: middle;\n",
       "    }\n",
       "\n",
       "    .dataframe tbody tr th {\n",
       "        vertical-align: top;\n",
       "    }\n",
       "\n",
       "    .dataframe thead th {\n",
       "        text-align: right;\n",
       "    }\n",
       "</style>\n",
       "<table border=\"1\" class=\"dataframe\">\n",
       "  <thead>\n",
       "    <tr style=\"text-align: right;\">\n",
       "      <th></th>\n",
       "      <th>Cardinality</th>\n",
       "      <th>Nulls</th>\n",
       "      <th>Blank</th>\n",
       "      <th>Zeros</th>\n",
       "      <th>Min</th>\n",
       "      <th>Max</th>\n",
       "      <th>Dtype</th>\n",
       "    </tr>\n",
       "  </thead>\n",
       "  <tbody>\n",
       "    <tr>\n",
       "      <th>MaterialDescription</th>\n",
       "      <td>142585</td>\n",
       "      <td>1169</td>\n",
       "      <td>0</td>\n",
       "      <td>0</td>\n",
       "      <td>0</td>\n",
       "      <td>0</td>\n",
       "      <td>object</td>\n",
       "    </tr>\n",
       "    <tr>\n",
       "      <th>MaterialGroup</th>\n",
       "      <td>819</td>\n",
       "      <td>0</td>\n",
       "      <td>0</td>\n",
       "      <td>0</td>\n",
       "      <td>0</td>\n",
       "      <td>0</td>\n",
       "      <td>object</td>\n",
       "    </tr>\n",
       "    <tr>\n",
       "      <th>MaterialGroupDescription</th>\n",
       "      <td>676</td>\n",
       "      <td>100</td>\n",
       "      <td>0</td>\n",
       "      <td>0</td>\n",
       "      <td>0</td>\n",
       "      <td>0</td>\n",
       "      <td>object</td>\n",
       "    </tr>\n",
       "    <tr>\n",
       "      <th>Unit</th>\n",
       "      <td>40</td>\n",
       "      <td>0</td>\n",
       "      <td>0</td>\n",
       "      <td>0</td>\n",
       "      <td>0</td>\n",
       "      <td>0</td>\n",
       "      <td>object</td>\n",
       "    </tr>\n",
       "    <tr>\n",
       "      <th>MaterialType</th>\n",
       "      <td>7</td>\n",
       "      <td>0</td>\n",
       "      <td>0</td>\n",
       "      <td>0</td>\n",
       "      <td>0</td>\n",
       "      <td>0</td>\n",
       "      <td>object</td>\n",
       "    </tr>\n",
       "    <tr>\n",
       "      <th>Created</th>\n",
       "      <td>416</td>\n",
       "      <td>0</td>\n",
       "      <td>0</td>\n",
       "      <td>0</td>\n",
       "      <td>2018-12-17</td>\n",
       "      <td>2021-04-26</td>\n",
       "      <td>datetime64[ns]</td>\n",
       "    </tr>\n",
       "    <tr>\n",
       "      <th>LastChange</th>\n",
       "      <td>321</td>\n",
       "      <td>0</td>\n",
       "      <td>0</td>\n",
       "      <td>0</td>\n",
       "      <td>2019-04-12</td>\n",
       "      <td>2021-12-03</td>\n",
       "      <td>datetime64[ns]</td>\n",
       "    </tr>\n",
       "    <tr>\n",
       "      <th>AveragePrice</th>\n",
       "      <td>110169</td>\n",
       "      <td>0</td>\n",
       "      <td>0</td>\n",
       "      <td>117064</td>\n",
       "      <td>0</td>\n",
       "      <td>383602</td>\n",
       "      <td>float64</td>\n",
       "    </tr>\n",
       "    <tr>\n",
       "      <th>STDPrice</th>\n",
       "      <td>53317</td>\n",
       "      <td>0</td>\n",
       "      <td>0</td>\n",
       "      <td>181481</td>\n",
       "      <td>0</td>\n",
       "      <td>234276</td>\n",
       "      <td>float64</td>\n",
       "    </tr>\n",
       "    <tr>\n",
       "      <th>CountMovements</th>\n",
       "      <td>258</td>\n",
       "      <td>0</td>\n",
       "      <td>0</td>\n",
       "      <td>89490</td>\n",
       "      <td>0</td>\n",
       "      <td>4510</td>\n",
       "      <td>int64</td>\n",
       "    </tr>\n",
       "  </tbody>\n",
       "</table>\n",
       "</div>"
      ],
      "text/plain": [
       "                          Cardinality  Nulls  Blank   Zeros         Min  \\\n",
       "MaterialDescription            142585   1169      0       0           0   \n",
       "MaterialGroup                     819      0      0       0           0   \n",
       "MaterialGroupDescription          676    100      0       0           0   \n",
       "Unit                               40      0      0       0           0   \n",
       "MaterialType                        7      0      0       0           0   \n",
       "Created                           416      0      0       0  2018-12-17   \n",
       "LastChange                        321      0      0       0  2019-04-12   \n",
       "AveragePrice                   110169      0      0  117064           0   \n",
       "STDPrice                        53317      0      0  181481           0   \n",
       "CountMovements                    258      0      0   89490           0   \n",
       "\n",
       "                                 Max           Dtype  \n",
       "MaterialDescription                0          object  \n",
       "MaterialGroup                      0          object  \n",
       "MaterialGroupDescription           0          object  \n",
       "Unit                               0          object  \n",
       "MaterialType                       0          object  \n",
       "Created                   2021-04-26  datetime64[ns]  \n",
       "LastChange                2021-12-03  datetime64[ns]  \n",
       "AveragePrice                  383602         float64  \n",
       "STDPrice                      234276         float64  \n",
       "CountMovements                  4510           int64  "
      ]
     },
     "execution_count": 5,
     "metadata": {},
     "output_type": "execute_result"
    }
   ],
   "source": [
    "# Get the cardinality and number of null values for each column\n",
    "\n",
    "# Material is primary key therefore it is never null\n",
    "\n",
    "cols_to_check = [\n",
    "    'MaterialDescription',\n",
    "    'MaterialGroup',\n",
    "    'MaterialGroupDescription',\n",
    "    'Unit',\n",
    "    'MaterialType',\n",
    "    'Created',\n",
    "    'LastChange',\n",
    "]\n",
    "\n",
    "cols_numbers = [\n",
    "    'AveragePrice',\n",
    "    'STDPrice',\n",
    "    'CountMovements'\n",
    "]\n",
    "\n",
    "stats_data = np.empty([len(cols_to_check) +  len(cols_numbers), 6], dtype=int)\n",
    "types = []\n",
    "nr_words = []\n",
    "\n",
    "for i, col in enumerate(cols_to_check):\n",
    "    stats_data[i, :] = [len(data_p[col].unique()), (data_p[col].isnull()).sum(), (data_p[col]=='').sum(), 0, 0, 0]\n",
    "    types.append(data[col].dtype)\n",
    "    \n",
    "for i, col in enumerate(cols_numbers):\n",
    "    stats_data[i + 7, :] = [len(data_p[col].unique()), (data_p[col].isnull()).sum(), (data_p[col]=='').sum(), (data_p[col]==0).sum(), int(data_p[col].min()), int(data_p[col].max())]\n",
    "    types.append(data[col].dtype)\n",
    "    \n",
    "stats_data = pd.DataFrame(stats_data, columns=['Cardinality', 'Nulls', 'Blank', 'Zeros', 'Min', 'Max'], index=cols_to_check+cols_numbers)\n",
    "stats_data['Dtype'] = types\n",
    "\n",
    "\n",
    "for col in ['Created', 'LastChange']:\n",
    "    stats_data.loc[col, 'Min'] = data_p[col].dt.date.min()\n",
    "    stats_data.loc[col, 'Max'] = data_p[col].dt.date.max()\n",
    "\n",
    "stats_data.head(10)"
   ]
  },
  {
   "cell_type": "markdown",
   "metadata": {},
   "source": [
    "AveragePrice and STDPrice have both a lot of zeros, which are indicative of no price information. These 0s represent more than 50% of the data. So I will proceed with eliminating these columns."
   ]
  },
  {
   "cell_type": "code",
   "execution_count": 6,
   "metadata": {},
   "outputs": [],
   "source": [
    "data_p.drop(columns=['AveragePrice', 'STDPrice'], inplace=True) # delete columns"
   ]
  },
  {
   "cell_type": "markdown",
   "metadata": {},
   "source": [
    "The dates of creation and change can be indicative of similar seasonal needs but with so many diverse projects happening at the same time, it is also risky trying to infer anything with it."
   ]
  },
  {
   "cell_type": "code",
   "execution_count": 7,
   "metadata": {},
   "outputs": [],
   "source": [
    "data_p.drop(columns=['Created', 'LastChange'], inplace=True)"
   ]
  },
  {
   "cell_type": "markdown",
   "metadata": {},
   "source": [
    "A very big percentage of materials have no registered movement, therefore it should also be hard to cluster using this information. In any case this data can be used to sort the results from the material search in the end."
   ]
  },
  {
   "cell_type": "code",
   "execution_count": 8,
   "metadata": {},
   "outputs": [
    {
     "data": {
      "image/png": "[encoded data removed]",
      "text/plain": [
       "<Figure size 432x288 with 1 Axes>"
      ]
     },
     "metadata": {
      "needs_background": "light"
     },
     "output_type": "display_data"
    }
   ],
   "source": [
    "data_p['movements_category'] = data_p['CountMovements'].apply(lambda x: '0' if x < 1 else '1+')\n",
    "ax = sns.countplot(data=data_p, x='movements_category')\n",
    "ax.set_xlabel('Number of movements')\n",
    "ax.set_title('Counts of movements');"
   ]
  },
  {
   "cell_type": "code",
   "execution_count": 9,
   "metadata": {},
   "outputs": [],
   "source": [
    "data_p.drop(columns=['CountMovements', 'movements_category'], inplace=True)"
   ]
  },
  {
   "cell_type": "markdown",
   "metadata": {},
   "source": [
    "We can also delete the units. Sometimes they vary because users prefer to deal e.g. with liters instead of units and that should not distanciate the different materials."
   ]
  },
  {
   "cell_type": "code",
   "execution_count": 10,
   "metadata": {},
   "outputs": [],
   "source": [
    "data_p.drop(columns=['Unit'], inplace=True)"
   ]
  },
  {
   "cell_type": "code",
   "execution_count": null,
   "metadata": {},
   "outputs": [],
   "source": [
    "# End result\n",
    "data_p.head()"
   ]
  },
  {
   "cell_type": "markdown",
   "metadata": {},
   "source": [
    "**Outcome**\n",
    "We will calculate distances between the material descriptions."
   ]
  },
  {
   "cell_type": "markdown",
   "metadata": {},
   "source": [
    "After several meetings we obtained the knowledge that searches are done using two types of information: 1) Tools & Equipment part number, and 2) Material description. In this case we will filter only materials (ZMAT) from the dataset which are what users search for using the descriptions."
   ]
  },
  {
   "cell_type": "code",
   "execution_count": 12,
   "metadata": {},
   "outputs": [],
   "source": [
    "# Keep only ZMAT & ZPEC\n",
    "data_p = data_p[(data_p.MaterialType=='ZMAT')].copy()"
   ]
  },
  {
   "cell_type": "markdown",
   "metadata": {},
   "source": [
    "MaterialGroup is the MaterialGroupDescription ID, and Material Type we have only two groups so we will eliminate both of these columns."
   ]
  },
  {
   "cell_type": "code",
   "execution_count": 13,
   "metadata": {},
   "outputs": [],
   "source": [
    "data_p.drop(columns=['MaterialGroup', 'MaterialType'], inplace=True)"
   ]
  },
  {
   "cell_type": "markdown",
   "metadata": {},
   "source": [
    "Material Group and Type information are both already clustered groups of data, and we can use them to calculate evaluation metrics with pseudo ground truth. They won't be reliable since they have mixed types of groups: some are grouped by the brand (e.g. Volvo and Toyota) and others are grouped by their utility."
   ]
  },
  {
   "cell_type": "code",
   "execution_count": 14,
   "metadata": {},
   "outputs": [],
   "source": [
    "# We will save the MaterialGroupDescription for evaluating the results after\n",
    "ground_truth = data_p['MaterialGroupDescription']\n",
    "data_p.drop(columns=['MaterialGroupDescription'], inplace=True)"
   ]
  },
  {
   "cell_type": "markdown",
   "metadata": {},
   "source": [
    "# **Calculating Distances**\n",
    "\n",
    "Levenshtein Distance for words and increased distance in case the exact words or similar are also not present in the other string.\n",
    "\n",
    "### Data Cleaning\n",
    "\n",
    "First we create a new column with the cleaned up description."
   ]
  },
  {
   "cell_type": "code",
   "execution_count": null,
   "metadata": {},
   "outputs": [],
   "source": [
    "# first we turn the description into a cleaned version\n",
    "\n",
    "# function to extract type of word\n",
    "def get_wordnet_pos(pos_tag):\n",
    "    if pos_tag.startswith('J'):\n",
    "        return wordnet.ADJ\n",
    "    elif pos_tag.startswith('V'):\n",
    "        return wordnet.VERB\n",
    "    elif pos_tag.startswith('N'):\n",
    "        return wordnet.NOUN\n",
    "    elif pos_tag.startswith('R'):\n",
    "        return wordnet.ADV\n",
    "    else:\n",
    "        return wordnet.NOUN\n",
    "\n",
    "\n",
    "# multiple functions to clean the t\n",
    "def clean_text(text):\n",
    "    # clean any unicode formatting left\n",
    "    text = unic.normalize(\"NFKD\", text)\n",
    "    # lower text\n",
    "    text = text.lower()\n",
    "    # tokenize text and remove puncutation\n",
    "    text = [word.strip(string.punctuation) for word in text.split(\" \")]\n",
    "    # replace the rest of the punctuation by space\n",
    "    text = ' '.join(text)\n",
    "    text = [w for w in re.split('\\.|\\-|\\s|\\,|\\(|\\_|\\d', text)]\n",
    "    # remove words that contain numbers\n",
    "    text = [word for word in text if not any(c.isdigit() for c in word)]\n",
    "    # remove stop words | Not really needed\n",
    "    stop = stopwords.words('english')\n",
    "    text = [x for x in text if x not in stop]\n",
    "    # remove empty\n",
    "    text = [t for t in text if len(t) > 1]\n",
    "    # pos tag text\n",
    "    pos_tags = pos_tag(text)\n",
    "    # lemmatize text\n",
    "    text = [WordNetLemmatizer().lemmatize(t[0],  get_wordnet_pos(t[1])) for t in pos_tags]\n",
    "    # remove words with only one letter\n",
    "    text = [t for t in text if len(t) > 2]\n",
    "    # join all\n",
    "    text = \" \".join(text)\n",
    "    return(text)\n",
    "\n",
    "# clean text data\n",
    "data_p[\"description_clean\"] = data_p[\"MaterialDescription\"].apply(lambda x: clean_text(x) if x is not None else \"\")\n",
    "data_p.head()"
   ]
  },
  {
   "cell_type": "markdown",
   "metadata": {},
   "source": [
    "Now that we have the cleaned up descriptions, we can see what are the most common words in them."
   ]
  },
  {
   "cell_type": "code",
   "execution_count": null,
   "metadata": {},
   "outputs": [],
   "source": [
    "# Top 10 words after cleaning\n",
    "top10words_df = pd.DataFrame(Counter(\" \".join(data_p[\"description_clean\"]).split()).most_common(10), columns=['Words', 'Occurences'])\n",
    "plt.figure(figsize=(10,5))\n",
    "ax = sns.barplot(data=top10words_df, x='Words', y='Occurences')\n",
    "ax.set_title('Top 10 words in the descriptions')\n",
    "plt.savefig('images/top10words.png');"
   ]
  },
  {
   "cell_type": "markdown",
   "metadata": {},
   "source": [
    "Since the cleanup returned empty strings for some materials, we will consider them undefined materials"
   ]
  },
  {
   "cell_type": "code",
   "execution_count": 17,
   "metadata": {},
   "outputs": [],
   "source": [
    "# missing description will be set to undefined\n",
    "data_p.loc[data_p.description_clean.str.contains('^\\s*$'), 'description_clean'] = 'undefined'"
   ]
  },
  {
   "cell_type": "markdown",
   "metadata": {},
   "source": [
    "Now that we have clean descriptions, we can now focus on calculating distances between the different texts with the levenshtein distance both for words and then for sentences.\n",
    "\n",
    "### **Levenshtein distance for words**\n",
    "\n",
    "For the levenshtein distance we have a custom function:"
   ]
  },
  {
   "cell_type": "code",
   "execution_count": 18,
   "metadata": {},
   "outputs": [],
   "source": [
    "def levenshtein_dist_word(token1, token2):\n",
    "    \"\"\"Levenshtein distance for words.\"\"\"\n",
    "    \n",
    "    m = len(token1)\n",
    "    n = len(token2)\n",
    "    \n",
    "    distances = np.zeros((m + 1, n + 1))\n",
    "    \n",
    "    \n",
    "    for t1 in range(m + 1):\n",
    "        distances[t1][0] = t1\n",
    "    for t2 in range(n + 1):\n",
    "        distances[0][t2] = t2\n",
    "            \n",
    "    for t1 in range(1, m + 1):\n",
    "        for t2 in range(1, n + 1):\n",
    "            if (token1[t1-1] == token2[t2-1]):\n",
    "                distances[t1][t2] = distances[t1 - 1][t2 - 1]\n",
    "            else:\n",
    "                insertion = distances[t1][t2 - 1]\n",
    "                deletion = distances[t1 - 1][t2]\n",
    "                substitution = distances[t1 - 1][t2 - 1]\n",
    "                \n",
    "                \n",
    "                if (insertion <= deletion and insertion <= substitution):\n",
    "                    distances[t1][t2] = insertion + 1\n",
    "                elif (deletion <= insertion and deletion <= substitution):\n",
    "                    distances[t1][t2] = deletion + 1\n",
    "                else:\n",
    "                    distances[t1][t2] = substitution + 1\n",
    "        \n",
    "    final_dist = distances[-1][-1]\n",
    "    lword = max(m,n)\n",
    "    \n",
    "    # ratio = (lword - final_dist) / lword # Calculate much of the word has changed\n",
    "    \n",
    "    # Some words are incomplete so we check the matrix to see if there is any word\n",
    "    # that is the incomplete version of the other.\n",
    "    \n",
    "    # if (np.any(distances[:,-1]==0)) or (np.any(distances[-1,:]==0)):\n",
    "    #    ratio = 0.9\n",
    "        \n",
    "    # print_distances(distances, m, n)\n",
    "    \n",
    "    return final_dist"
   ]
  },
  {
   "cell_type": "code",
   "execution_count": 19,
   "metadata": {},
   "outputs": [
    {
     "name": "stdout",
     "output_type": "stream",
     "text": [
      "CPU times: user 481 µs, sys: 35 µs, total: 516 µs\n",
      "Wall time: 505 µs\n"
     ]
    },
    {
     "data": {
      "text/plain": [
       "11.0"
      ]
     },
     "execution_count": 19,
     "metadata": {},
     "output_type": "execute_result"
    }
   ],
   "source": [
    "%%time\n",
    "\n",
    "levenshtein_dist_word('amazingfantasticoulosimundo', 'amazcoulosimundo')"
   ]
  },
  {
   "cell_type": "markdown",
   "metadata": {},
   "source": [
    "There are also some other alternatives, such as the `editdistance.eval` levenshtein distance, tested below:"
   ]
  },
  {
   "cell_type": "code",
   "execution_count": 20,
   "metadata": {},
   "outputs": [
    {
     "name": "stdout",
     "output_type": "stream",
     "text": [
      "CPU times: user 10 µs, sys: 0 ns, total: 10 µs\n",
      "Wall time: 13.4 µs\n"
     ]
    },
    {
     "data": {
      "text/plain": [
       "11"
      ]
     },
     "execution_count": 20,
     "metadata": {},
     "output_type": "execute_result"
    }
   ],
   "source": [
    "%%time\n",
    "\n",
    "ed.eval('amazingfantasticoulosimundo', 'amazcoulosimundo')"
   ]
  },
  {
   "cell_type": "markdown",
   "metadata": {},
   "source": [
    "`editdistance` package is implemented in Cython and C++ which makes it way faster than the manually implemented one. So we will continue with the editdistance levenshtein distance calculation.\n",
    "The next function uses this function inside a sentence distance function to determine if a word is similar enough to another. In the sentence, the order of the words does not matter and this function reflects that."
   ]
  },
  {
   "cell_type": "code",
   "execution_count": 21,
   "metadata": {},
   "outputs": [],
   "source": [
    "def dist_sentence(token1, token2):\n",
    "    \"\"\"Distance for sentence adapted from levenshtein but with no fixed order.\"\"\"\n",
    "    initial = token1 + '|' + token2\n",
    "    \n",
    "    token1 = token1.split(' ')\n",
    "    token2 = token2.split(' ')\n",
    "        \n",
    "    m = len(token1)\n",
    "    n = len(token2)\n",
    "    \n",
    "    if (m == 0) or (n == 0):\n",
    "        return 0\n",
    "    \n",
    "    ln = max(m, n)\n",
    "    ln_max = ln\n",
    "    \n",
    "    # Remove identical words before checking if words are similar.\n",
    "    to_remove = []\n",
    "    for c in token1:\n",
    "        if c in token2:\n",
    "            to_remove.append(c)\n",
    "    \n",
    "    for c in set(to_remove):\n",
    "        token1.remove(c)\n",
    "        token2.remove(c)\n",
    "        ln -= 1\n",
    "        n -= 1\n",
    "        m -= 1\n",
    "        \n",
    "    \n",
    "    \n",
    "    # Initialize distance variable\n",
    "    distance = 0\n",
    "    \n",
    "    # Find similar words\n",
    "    for i, s1 in enumerate(token1):\n",
    "        if token2:\n",
    "            values = np.zeros((1, n))\n",
    "            for j, s2 in enumerate(token2):\n",
    "                l_word = max(len(s1),len(s2))\n",
    "                values[0,j] = ed.eval(s1, s2) / l_word\n",
    "            try:\n",
    "                value = np.amin(values)\n",
    "            except:\n",
    "                print(initial)\n",
    "            if value < 0.33:\n",
    "                index = np.argmax(values)\n",
    "                # Add relative leven distance to distance\n",
    "                distance += value\n",
    "                # Remove the tokens\n",
    "                token1.remove(token1[i])\n",
    "                token2.remove(token2[index])\n",
    "                ln -= 1\n",
    "                n -= 1\n",
    "    \n",
    "    # Add the missing values that weren't matched\n",
    "    distance += ln\n",
    "    \n",
    "    return int((distance / ln_max) * 100)"
   ]
  },
  {
   "cell_type": "code",
   "execution_count": 22,
   "metadata": {},
   "outputs": [
    {
     "name": "stdout",
     "output_type": "stream",
     "text": [
      "Distance between 'horse likes water' and 'morse likes milk' is 40\n"
     ]
    }
   ],
   "source": [
    "# Example\n",
    "\n",
    "distance = dist_sentence(\"horse likes water\", \"morse likes milk\")\n",
    "print(f\"Distance between 'horse likes water' and 'morse likes milk' is {distance}\")"
   ]
  },
  {
   "cell_type": "markdown",
   "metadata": {},
   "source": [
    "For calculating the distance between descriptions:\n",
    "* gives a penalty of 1 for each different word, in this last example we have one different word.\n",
    "* gives a partial penalty [0,1] when it has one similar word (morse -> horse) this is a normalized penalty according to the max word length. For this case we have one letter substitution from a five letter word therefore -> 0.2 of the word. Summed up we have 1 + 0.2 = 1.2. Then we divide the max number of words by this sum, so it is 3 / 1.2 = 0.4. To obtain an int8 distance matrix to save memory, we multiply the value by 100 and change to INT value. "
   ]
  },
  {
   "cell_type": "markdown",
   "metadata": {},
   "source": [
    "### **Testing Distance Matrix calculation**\n",
    "\n",
    "### Single processing test"
   ]
  },
  {
   "cell_type": "code",
   "execution_count": 23,
   "metadata": {},
   "outputs": [],
   "source": [
    "# Extract data\n",
    "X = np.asarray(data_p['description_clean'].head(1000))\n",
    "\n",
    "# Create the final output table to fill in\n",
    "FINAL_OUTPUT = np.zeros((len(X),len(X)), dtype=np.int8)"
   ]
  },
  {
   "cell_type": "code",
   "execution_count": 24,
   "metadata": {},
   "outputs": [],
   "source": [
    "def apply_leven(i, data):\n",
    "    \"\"\"Single processing function to apply sentence distance calculation.\"\"\"\n",
    "    \n",
    "    # Only calculate distance matrix for the required values,\n",
    "    # because the matrix is symetrical and the diagonal results are all 0\n",
    "    j_start = i + 1\n",
    "    s1 = data[i]\n",
    "    for j, s2 in enumerate(data):\n",
    "        if j < j_start:\n",
    "            FINAL_OUTPUT[i,j] = 0\n",
    "        else:\n",
    "            FINAL_OUTPUT[i,j] = dist_sentence(s1, s2)"
   ]
  },
  {
   "cell_type": "code",
   "execution_count": 25,
   "metadata": {},
   "outputs": [
    {
     "name": "stdout",
     "output_type": "stream",
     "text": [
      "CPU times: user 10.2 s, sys: 8.07 ms, total: 10.3 s\n",
      "Wall time: 10.3 s\n"
     ]
    }
   ],
   "source": [
    "%%time\n",
    "\n",
    "# Apply function with a for loop\n",
    "for i in range(len(X)):\n",
    "    apply_leven(i, X)"
   ]
  },
  {
   "cell_type": "code",
   "execution_count": 26,
   "metadata": {},
   "outputs": [],
   "source": [
    "# Fill in the rest of the matrix\n",
    "FINAL_OUTPUT += FINAL_OUTPUT.T"
   ]
  },
  {
   "cell_type": "code",
   "execution_count": 27,
   "metadata": {},
   "outputs": [
    {
     "name": "stdout",
     "output_type": "stream",
     "text": [
      "[[  0 100 100 ... 100 100 100]\n",
      " [100   0 100 ... 100 100 100]\n",
      " [100 100   0 ... 100 100 100]\n",
      " ...\n",
      " [100 100 100 ...   0  66 100]\n",
      " [100 100 100 ...  66   0 100]\n",
      " [100 100 100 ... 100 100   0]]\n"
     ]
    }
   ],
   "source": [
    "print(FINAL_OUTPUT)"
   ]
  },
  {
   "cell_type": "markdown",
   "metadata": {},
   "source": [
    "### Multiprocessing test to improve speed"
   ]
  },
  {
   "cell_type": "code",
   "execution_count": 28,
   "metadata": {},
   "outputs": [],
   "source": [
    "# Create the matrix and make it a shared array to be accessed by the different workers\n",
    "FINAL_OUTPUT_RAW = np.zeros((len(X), len(X)), dtype=np.int8)\n",
    "C_TYPE_OUTPUT = np.ctypeslib.as_ctypes(FINAL_OUTPUT_RAW)\n",
    "SHARED_ARRAY = sharedctypes.RawArray(C_TYPE_OUTPUT._type_, C_TYPE_OUTPUT)"
   ]
  },
  {
   "cell_type": "code",
   "execution_count": 29,
   "metadata": {},
   "outputs": [],
   "source": [
    "def apply_leven_mp(i, data):\n",
    "    \"\"\"Multiprocessing function to apply sentence distance calculation.\"\"\"\n",
    "    j_start = i + 1\n",
    "    s1 = data[i]\n",
    "    \n",
    "    # Get the shared array\n",
    "    TMP = np.ctypeslib.as_array(SHARED_ARRAY)\n",
    "\n",
    "    for j, s2 in enumerate(data):\n",
    "        if j < j_start:\n",
    "            TMP[i, j] = 0\n",
    "        else:\n",
    "            TMP[i, j] = dist_sentence(s1, s2)"
   ]
  },
  {
   "cell_type": "code",
   "execution_count": 30,
   "metadata": {},
   "outputs": [
    {
     "name": "stdout",
     "output_type": "stream",
     "text": [
      "CPU times: user 63.4 ms, sys: 84 ms, total: 147 ms\n",
      "Wall time: 2.22 s\n"
     ]
    }
   ],
   "source": [
    "%%time\n",
    "\n",
    "pool = Pool(processes=cpu_count())\n",
    "args = [(i, X) for i in range(len(X))]\n",
    "res = pool.starmap(apply_leven_mp, args)\n",
    "FINAL_OUTPUT_MP = np.ctypeslib.as_array(SHARED_ARRAY)"
   ]
  },
  {
   "cell_type": "code",
   "execution_count": 31,
   "metadata": {},
   "outputs": [],
   "source": [
    "# Fill in the rest of the matrix\n",
    "FINAL_OUTPUT_MP += FINAL_OUTPUT_MP.T"
   ]
  },
  {
   "cell_type": "code",
   "execution_count": 32,
   "metadata": {},
   "outputs": [
    {
     "name": "stdout",
     "output_type": "stream",
     "text": [
      "Matrices are the same!\n"
     ]
    }
   ],
   "source": [
    "if (FINAL_OUTPUT==FINAL_OUTPUT_MP).all():\n",
    "    print(\"Matrices are the same!\")"
   ]
  },
  {
   "cell_type": "markdown",
   "metadata": {},
   "source": [
    "### Using DBSCAN Processing\n",
    "\n",
    "We will still apply DBSCAN in the next section, but before proceding we are going to show how the distance function could be applied to `sklearn.cluster.dbscan` metric parameter"
   ]
  },
  {
   "cell_type": "code",
   "execution_count": 33,
   "metadata": {},
   "outputs": [
    {
     "name": "stdout",
     "output_type": "stream",
     "text": [
      "CPU times: user 22.3 s, sys: 124 ms, total: 22.5 s\n",
      "Wall time: 22.3 s\n"
     ]
    }
   ],
   "source": [
    "%%time\n",
    "# Function to get the strings using integers for their index in dataset\n",
    "def lev_metric(x, y):\n",
    "    i, j = int(x[0]), int(y[0])     # extract indices\n",
    "    return dist_sentence(X[i], X[j])\n",
    "\n",
    "\n",
    "X_ints = np.arange(len(X)).reshape(-1, 1)\n",
    "\n",
    "db = DBSCAN(eps=90, min_samples=1, metric=lev_metric).fit(X_ints)"
   ]
  },
  {
   "cell_type": "code",
   "execution_count": 34,
   "metadata": {},
   "outputs": [
    {
     "name": "stdout",
     "output_type": "stream",
     "text": [
      "CPU times: user 30 s, sys: 2.73 s, total: 32.7 s\n",
      "Wall time: 26.8 s\n"
     ]
    }
   ],
   "source": [
    "%%time\n",
    "## We can also try using all the processors with the parameter n_jobs\n",
    "db = DBSCAN(eps=90, min_samples=1, metric=lev_metric, n_jobs=-1).fit(X_ints)"
   ]
  },
  {
   "cell_type": "markdown",
   "metadata": {},
   "source": [
    "Interestingly, the DBSCAN processing with all processors seems to take more time, this might be because it is not taking proper advantage of using it with this function and should be getting a big penalty from the overhead.\n",
    "To better understand these variations, the following section will obtain the performance gains with each of the variations.\n",
    "\n",
    "### Measuring Performance"
   ]
  },
  {
   "cell_type": "code",
   "execution_count": 37,
   "metadata": {},
   "outputs": [
    {
     "name": "stdout",
     "output_type": "stream",
     "text": [
      "======================PROCESS SIZE 10 =======================\n",
      "Time to process size 10 with one process was: 0.029865s.\n",
      "Time to process size 10 with MP was: 0.129651s.\n",
      "Matrices are the same!\n",
      "Time to process size 10 with DBSCAN singleprocessing was: 0.00118303s.\n",
      "Time to process size 10 with DBSCAN MP was: 0.00737643s.\n",
      "======================PROCESS SIZE 20 =======================\n",
      "Time to process size 20 with one process was: 0.00363302s.\n",
      "Time to process size 20 with MP was: 0.103353s.\n",
      "Matrices are the same!\n",
      "Time to process size 20 with DBSCAN singleprocessing was: 0.00995159s.\n",
      "Time to process size 20 with DBSCAN MP was: 0.0145447s.\n",
      "======================PROCESS SIZE 50 =======================\n",
      "Time to process size 50 with one process was: 0.0232158s.\n",
      "Time to process size 50 with MP was: 0.110248s.\n",
      "Matrices are the same!\n",
      "Time to process size 50 with DBSCAN singleprocessing was: 0.0569327s.\n",
      "Time to process size 50 with DBSCAN MP was: 0.0676589s.\n",
      "======================PROCESS SIZE 100 =======================\n",
      "Time to process size 100 with one process was: 0.0862751s.\n",
      "Time to process size 100 with MP was: 0.127848s.\n",
      "Matrices are the same!\n",
      "Time to process size 100 with DBSCAN singleprocessing was: 0.225781s.\n",
      "Time to process size 100 with DBSCAN MP was: 0.248834s.\n",
      "======================PROCESS SIZE 200 =======================\n",
      "Time to process size 200 with one process was: 0.367404s.\n",
      "Time to process size 200 with MP was: 0.170141s.\n",
      "Matrices are the same!\n",
      "Time to process size 200 with DBSCAN singleprocessing was: 0.843216s.\n",
      "Time to process size 200 with DBSCAN MP was: 1.00134s.\n",
      "======================PROCESS SIZE 300 =======================\n",
      "Time to process size 300 with one process was: 0.849309s.\n",
      "Time to process size 300 with MP was: 0.261842s.\n",
      "Matrices are the same!\n",
      "Time to process size 300 with DBSCAN singleprocessing was: 1.95329s.\n",
      "Time to process size 300 with DBSCAN MP was: 2.27748s.\n",
      "======================PROCESS SIZE 400 =======================\n",
      "Time to process size 400 with one process was: 1.50405s.\n",
      "Time to process size 400 with MP was: 0.393254s.\n",
      "Matrices are the same!\n",
      "Time to process size 400 with DBSCAN singleprocessing was: 3.50914s.\n",
      "Time to process size 400 with DBSCAN MP was: 3.92785s.\n",
      "======================PROCESS SIZE 500 =======================\n",
      "Time to process size 500 with one process was: 2.35915s.\n",
      "Time to process size 500 with MP was: 0.575622s.\n",
      "Matrices are the same!\n",
      "Time to process size 500 with DBSCAN singleprocessing was: 5.37702s.\n",
      "Time to process size 500 with DBSCAN MP was: 6.4373s.\n",
      "======================PROCESS SIZE 600 =======================\n",
      "Time to process size 600 with one process was: 3.49648s.\n",
      "Time to process size 600 with MP was: 0.794289s.\n",
      "Matrices are the same!\n",
      "Time to process size 600 with DBSCAN singleprocessing was: 7.79757s.\n",
      "Time to process size 600 with DBSCAN MP was: 9.08399s.\n",
      "======================PROCESS SIZE 700 =======================\n",
      "Time to process size 700 with one process was: 4.61852s.\n",
      "Time to process size 700 with MP was: 1.0605s.\n",
      "Matrices are the same!\n",
      "Time to process size 700 with DBSCAN singleprocessing was: 10.9554s.\n",
      "Time to process size 700 with DBSCAN MP was: 12.5698s.\n",
      "======================PROCESS SIZE 800 =======================\n",
      "Time to process size 800 with one process was: 6.24014s.\n",
      "Time to process size 800 with MP was: 1.37006s.\n",
      "Matrices are the same!\n",
      "Time to process size 800 with DBSCAN singleprocessing was: 13.7343s.\n",
      "Time to process size 800 with DBSCAN MP was: 16.4957s.\n",
      "======================PROCESS SIZE 900 =======================\n",
      "Time to process size 900 with one process was: 7.93073s.\n",
      "Time to process size 900 with MP was: 1.90189s.\n",
      "Matrices are the same!\n",
      "Time to process size 900 with DBSCAN singleprocessing was: 19.2371s.\n",
      "Time to process size 900 with DBSCAN MP was: 22.7913s.\n",
      "======================PROCESS SIZE 1000 =======================\n",
      "Time to process size 1000 with one process was: 10.8062s.\n",
      "Time to process size 1000 with MP was: 2.45174s.\n",
      "Matrices are the same!\n",
      "Time to process size 1000 with DBSCAN singleprocessing was: 24.1211s.\n",
      "Time to process size 1000 with DBSCAN MP was: 27.8241s.\n",
      "======================PROCESS SIZE 1500 =======================\n",
      "Time to process size 1500 with one process was: 22.2857s.\n",
      "Time to process size 1500 with MP was: 5.00903s.\n",
      "Matrices are the same!\n",
      "Time to process size 1500 with DBSCAN singleprocessing was: 49.7777s.\n",
      "Time to process size 1500 with DBSCAN MP was: 60.1468s.\n",
      "======================PROCESS SIZE 2000 =======================\n",
      "Time to process size 2000 with one process was: 41.9203s.\n",
      "Time to process size 2000 with MP was: 8.87899s.\n",
      "Matrices are the same!\n",
      "Time to process size 2000 with DBSCAN singleprocessing was: 90.9492s.\n",
      "Time to process size 2000 with DBSCAN MP was: 108.099s.\n"
     ]
    }
   ],
   "source": [
    "import time\n",
    "\n",
    "sizes = [10,20,50,100,200,300, 400, 500, 600, 700, 800, 900, 1000,1500, 2000]\n",
    "times_simple = []\n",
    "times_mp = []\n",
    "times_dbscan = []\n",
    "times_dbscan_mp = []\n",
    "\n",
    "for size in sizes:\n",
    "    print(f\"======================PROCESS SIZE {size} =======================\")\n",
    "    # Simple processing\n",
    "    X = np.asarray(data_p['description_clean'].head(size))\n",
    "    \n",
    "    start = time.time()\n",
    "    FINAL_OUTPUT = np.zeros((len(X),len(X)), dtype=np.int8)\n",
    "    \n",
    "    for i in range(len(X)):\n",
    "        apply_leven(i, X)\n",
    "    \n",
    "    FINAL_OUTPUT += FINAL_OUTPUT.T\n",
    "    DBSCAN(eps=90, min_samples=1, metric=\"precomputed\").fit(FINAL_OUTPUT_MP)\n",
    "    end = time.time()\n",
    "    times_simple.append(end-start)\n",
    "    print(f\"Time to process size {size} with one process was: {end-start:.6}s.\")\n",
    "\n",
    "    \n",
    "    # Multiprocessing\n",
    "    start = time.time()\n",
    "    FINAL_OUTPUT_RAW = np.zeros((len(X), len(X)), dtype=np.int8)\n",
    "    C_TYPE_OUTPUT = np.ctypeslib.as_ctypes(FINAL_OUTPUT_RAW)\n",
    "    SHARED_ARRAY = sharedctypes.RawArray(C_TYPE_OUTPUT._type_, C_TYPE_OUTPUT)\n",
    "    \n",
    "    pool = Pool(processes=cpu_count())\n",
    "    args = [(i, X) for i in range(len(X))]\n",
    "    res = pool.starmap(apply_leven_mp, args)\n",
    "    FINAL_OUTPUT_MP = np.ctypeslib.as_array(SHARED_ARRAY)\n",
    "    \n",
    "    FINAL_OUTPUT_MP += FINAL_OUTPUT_MP.T\n",
    "    DBSCAN(eps=90, min_samples=1, metric=\"precomputed\").fit(FINAL_OUTPUT_MP)\n",
    "    end = time.time()\n",
    "    times_mp.append(end-start)\n",
    "    print(f\"Time to process size {size} with MP was: {end-start:.6}s.\")\n",
    "    \n",
    "        \n",
    "    if (FINAL_OUTPUT==FINAL_OUTPUT_MP).all():\n",
    "        print(\"Matrices are the same!\")\n",
    "        \n",
    "    \n",
    "    # SKLean DBSCAN processing\n",
    "    start = time.time()\n",
    "    X_ints = np.arange(len(X)).reshape(-1, 1)\n",
    "    DBSCAN(eps=90, min_samples=1, metric=lev_metric).fit(X_ints)\n",
    "    end = time.time()\n",
    "    times_dbscan.append(end-start)\n",
    "    print(f\"Time to process size {size} with DBSCAN singleprocessing was: {end-start:.6}s.\")\n",
    "    \n",
    "    \n",
    "    # SKLean DBSCAN Multiprocessing\n",
    "    start = time.time()\n",
    "    X_ints = np.arange(len(X)).reshape(-1, 1)\n",
    "    DBSCAN(eps=90, min_samples=1, metric=lev_metric, n_jobs=-1).fit(X_ints)\n",
    "    end = time.time()\n",
    "    times_dbscan_mp.append(end-start)\n",
    "    print(f\"Time to process size {size} with DBSCAN MP was: {end-start:.6}s.\")"
   ]
  },
  {
   "cell_type": "code",
   "execution_count": 54,
   "metadata": {},
   "outputs": [
    {
     "data": {
      "image/png": "[encoded data removed]",
      "text/plain": [
       "<Figure size 720x360 with 1 Axes>"
      ]
     },
     "metadata": {
      "needs_background": "light"
     },
     "output_type": "display_data"
    }
   ],
   "source": [
    "sns.set_palette(\"deep\")\n",
    "plt.figure(figsize=(10,5))\n",
    "plt.title('Execution times for single and multiprocessing of sentence distance.')\n",
    "plt.plot(sizes, times_simple, 'o-')\n",
    "plt.plot(sizes, times_mp, 'o-')\n",
    "plt.plot(sizes, times_dbscan, 'o-')\n",
    "plt.plot(sizes, times_dbscan_mp, 'o-')\n",
    "plt.legend(['Single', 'Multiprocessing', 'DBSCAN Single', 'DBSCAN MP'])\n",
    "plt.xlabel('data size')\n",
    "plt.ylabel('execution time (s)')\n",
    "plt.savefig('images/performance_gain.png')\n",
    "plt.show()"
   ]
  },
  {
   "cell_type": "markdown",
   "metadata": {},
   "source": [
    "We can clearly decide that using the custom multiprocessing function is the one that will save us the biggest ammount of time. So we will proceed with this path."
   ]
  },
  {
   "cell_type": "markdown",
   "metadata": {},
   "source": [
    "## **Actual Distance Matrix Processing**"
   ]
  },
  {
   "cell_type": "code",
   "execution_count": 23,
   "metadata": {},
   "outputs": [
    {
     "name": "stdout",
     "output_type": "stream",
     "text": [
      "(95916, 3)\n",
      "(50131, 3)\n"
     ]
    }
   ],
   "source": [
    "print(data_p.shape)\n",
    "\n",
    "# No need to recalculate distances from equal senteces.\n",
    "data_unique = data_p.drop_duplicates(subset='description_clean', keep='first').copy()\n",
    "print(data_unique.shape)"
   ]
  },
  {
   "cell_type": "code",
   "execution_count": 25,
   "metadata": {},
   "outputs": [
    {
     "name": "stdout",
     "output_type": "stream",
     "text": [
      "Previous Wall time: 2h 12min 25s\n",
      "=========FINISHED==========\n",
      "CPU times: user 98.5 ms, sys: 1.09 s, total: 1.19 s\n",
      "Wall time: 2.45 s\n"
     ]
    }
   ],
   "source": [
    "%%time\n",
    "\n",
    "run_mp = False\n",
    "\n",
    "if run_mp:\n",
    "    X = np.asarray(data_unique['description_clean'])\n",
    "\n",
    "    # Multiprocessing\n",
    "    FINAL_OUTPUT_RAW = np.zeros((len(X), len(X)), dtype=np.int8)\n",
    "    C_TYPE_OUTPUT = np.ctypeslib.as_ctypes(FINAL_OUTPUT_RAW)\n",
    "    SHARED_ARRAY = sharedctypes.RawArray(C_TYPE_OUTPUT._type_, C_TYPE_OUTPUT)\n",
    "\n",
    "    pool = Pool(processes=cpu_count())\n",
    "    args = [(i, X) for i in range(len(X))]\n",
    "    res = pool.starmap(apply_leven_mp, args)\n",
    "    FINAL_OUTPUT_MP = np.ctypeslib.as_array(SHARED_ARRAY)\n",
    "    np.save(\"distance_matrix.npy\", FINAL_OUTPUT_MP)\n",
    "else:\n",
    "    FINAL_OUTPUT_MP = np.load(\"distance_matrix.npy\")\n",
    "    print('Previous Wall time: 2h 12min 25s')\n",
    "\n",
    "print(\"=========FINISHED==========\")"
   ]
  },
  {
   "cell_type": "code",
   "execution_count": 26,
   "metadata": {},
   "outputs": [],
   "source": [
    "FINAL_OUTPUT_MP += FINAL_OUTPUT_MP.T"
   ]
  },
  {
   "cell_type": "code",
   "execution_count": 51,
   "metadata": {},
   "outputs": [
    {
     "name": "stdout",
     "output_type": "stream",
     "text": [
      "CPU times: user 1min 8s, sys: 0 ns, total: 1min 8s\n",
      "Wall time: 1min 8s\n"
     ]
    }
   ],
   "source": [
    "%%time\n",
    "kneighbors = np.zeros((len(FINAL_OUTPUT_MP), 10), dtype=np.int32)\n",
    "\n",
    "for i in range(len(FINAL_OUTPUT_MP)):\n",
    "    if (np.where((np.sort(FINAL_OUTPUT_MP[i])[0:11])==100)[0]).size != 0:\n",
    "        end = np.where((np.sort(FINAL_OUTPUT_MP[i])[0:11])==100)[0][0]\n",
    "    else:\n",
    "        end = None\n",
    "    \n",
    "    kneighbors[i] = np.delete(np.argsort(FINAL_OUTPUT_MP[i])[0:11],np.where(np.argsort(FINAL_OUTPUT_MP[i])[0:11]==i))\n",
    "    if end:\n",
    "        kneighbors[i,end-1:] = -1"
   ]
  },
  {
   "cell_type": "code",
   "execution_count": 52,
   "metadata": {},
   "outputs": [
    {
     "data": {
      "text/html": [
       "<div>\n",
       "<style scoped>\n",
       "    .dataframe tbody tr th:only-of-type {\n",
       "        vertical-align: middle;\n",
       "    }\n",
       "\n",
       "    .dataframe tbody tr th {\n",
       "        vertical-align: top;\n",
       "    }\n",
       "\n",
       "    .dataframe thead th {\n",
       "        text-align: right;\n",
       "    }\n",
       "</style>\n",
       "<table border=\"1\" class=\"dataframe\">\n",
       "  <thead>\n",
       "    <tr style=\"text-align: right;\">\n",
       "      <th></th>\n",
       "      <th>Material</th>\n",
       "      <th>MaterialDescription</th>\n",
       "      <th>description_clean</th>\n",
       "    </tr>\n",
       "  </thead>\n",
       "  <tbody>\n",
       "  </tbody>\n",
       "</table>\n",
       "</div>"
      ],
      "text/plain": [
       "Empty DataFrame\n",
       "Columns: [Material, MaterialDescription, description_clean]\n",
       "Index: []"
      ]
     },
     "execution_count": 52,
     "metadata": {},
     "output_type": "execute_result"
    }
   ],
   "source": [
    "data_unique[data_unique.Material.str.contains('\\D')]"
   ]
  },
  {
   "cell_type": "markdown",
   "metadata": {},
   "source": [
    "This shows that all material codes are made of numbers, so we will use an integer array to store the neighbors by their material ID. This is required since indices will change when using the whole dataset instead of only the uniques."
   ]
  },
  {
   "cell_type": "code",
   "execution_count": 53,
   "metadata": {},
   "outputs": [],
   "source": [
    "for i in range(len(kneighbors)):\n",
    "    kneighbors[i][:len(np.delete(kneighbors[i],np.where(kneighbors[i]==-1)))] = np.asarray(data_unique.iloc[np.delete(kneighbors[i],np.where(kneighbors[i]==-1)),0])"
   ]
  },
  {
   "cell_type": "code",
   "execution_count": null,
   "metadata": {},
   "outputs": [],
   "source": [
    "data_unique = pd.concat([data_unique.reset_index(drop=True), pd.DataFrame(kneighbors)], axis=1)\n",
    "data_unique.head()"
   ]
  },
  {
   "cell_type": "code",
   "execution_count": null,
   "metadata": {},
   "outputs": [],
   "source": [
    "data_p = data_p.merge(data_unique.iloc[:,2:], how='inner', on='description_clean')\n",
    "data_p.head()"
   ]
  },
  {
   "cell_type": "markdown",
   "metadata": {},
   "source": [
    "# Testing the Search"
   ]
  },
  {
   "cell_type": "code",
   "execution_count": 57,
   "metadata": {},
   "outputs": [],
   "source": [
    "def get_similar_items(q, df):\n",
    "    print(\"query: \", q)\n",
    "    search_items = df.description_clean\n",
    "    distances = np.empty((len(search_items),))\n",
    "    for i, item in enumerate(search_items):\n",
    "        distances[i] = dist_sentence(q, item)\n",
    "    return df.iloc[np.argsort(distances)[0:10],:2]"
   ]
  },
  {
   "cell_type": "code",
   "execution_count": null,
   "metadata": {},
   "outputs": [],
   "source": [
    "get_similar_items('waser', data_p) # By mistake the user types 'waser' instead of 'washer', but it still works"
   ]
  },
  {
   "cell_type": "code",
   "execution_count": 95,
   "metadata": {},
   "outputs": [],
   "source": [
    "def get_related_items(q, df):\n",
    "    print(\"selected item: \", q)\n",
    "    return df[df.Material.isin([str(x) for x in df.iloc[:,3:][df.Material==q].iloc[0].tolist()])].iloc[:,:2]"
   ]
  },
  {
   "cell_type": "code",
   "execution_count": 97,
   "metadata": {},
   "outputs": [
    {
     "name": "stdout",
     "output_type": "stream",
     "text": [
      "selected item:  40182206\n"
     ]
    },
    {
     "data": {
      "text/html": [
       "<div>\n",
       "<style scoped>\n",
       "    .dataframe tbody tr th:only-of-type {\n",
       "        vertical-align: middle;\n",
       "    }\n",
       "\n",
       "    .dataframe tbody tr th {\n",
       "        vertical-align: top;\n",
       "    }\n",
       "\n",
       "    .dataframe thead th {\n",
       "        text-align: right;\n",
       "    }\n",
       "</style>\n",
       "<table border=\"1\" class=\"dataframe\">\n",
       "  <thead>\n",
       "    <tr style=\"text-align: right;\">\n",
       "      <th></th>\n",
       "      <th>Material</th>\n",
       "      <th>MaterialDescription</th>\n",
       "    </tr>\n",
       "  </thead>\n",
       "  <tbody>\n",
       "    <tr>\n",
       "      <th>8129</th>\n",
       "      <td>40002224</td>\n",
       "      <td>WASHER DIN127 1/4</td>\n",
       "    </tr>\n",
       "    <tr>\n",
       "      <th>8909</th>\n",
       "      <td>40002879</td>\n",
       "      <td>RUBBER WASHER 13 -261115-0</td>\n",
       "    </tr>\n",
       "    <tr>\n",
       "      <th>13849</th>\n",
       "      <td>40005953</td>\n",
       "      <td>FLASHER</td>\n",
       "    </tr>\n",
       "    <tr>\n",
       "      <th>17334</th>\n",
       "      <td>40010091</td>\n",
       "      <td>THRUST WASHER</td>\n",
       "    </tr>\n",
       "    <tr>\n",
       "      <th>23663</th>\n",
       "      <td>40038466</td>\n",
       "      <td>SLASHER</td>\n",
       "    </tr>\n",
       "    <tr>\n",
       "      <th>34386</th>\n",
       "      <td>40118733</td>\n",
       "      <td>NUTS + WASHERS M12</td>\n",
       "    </tr>\n",
       "    <tr>\n",
       "      <th>40413</th>\n",
       "      <td>40156176</td>\n",
       "      <td>COUPLING WASHER</td>\n",
       "    </tr>\n",
       "    <tr>\n",
       "      <th>43083</th>\n",
       "      <td>40167678</td>\n",
       "      <td>WASHER M20 CLASS 8.8</td>\n",
       "    </tr>\n",
       "    <tr>\n",
       "      <th>48533</th>\n",
       "      <td>40178998</td>\n",
       "      <td>NAILS WITH WASHER</td>\n",
       "    </tr>\n",
       "    <tr>\n",
       "      <th>82310</th>\n",
       "      <td>40341129</td>\n",
       "      <td>WASHER P 18 (ALUMINUM/VULCANIZED)</td>\n",
       "    </tr>\n",
       "  </tbody>\n",
       "</table>\n",
       "</div>"
      ],
      "text/plain": [
       "       Material                MaterialDescription\n",
       "8129   40002224                  WASHER DIN127 1/4\n",
       "8909   40002879         RUBBER WASHER 13 -261115-0\n",
       "13849  40005953                            FLASHER\n",
       "17334  40010091                      THRUST WASHER\n",
       "23663  40038466                            SLASHER\n",
       "34386  40118733                 NUTS + WASHERS M12\n",
       "40413  40156176                    COUPLING WASHER\n",
       "43083  40167678               WASHER M20 CLASS 8.8\n",
       "48533  40178998                  NAILS WITH WASHER\n",
       "82310  40341129  WASHER P 18 (ALUMINUM/VULCANIZED)"
      ]
     },
     "execution_count": 97,
     "metadata": {},
     "output_type": "execute_result"
    }
   ],
   "source": [
    "get_related_items('40182206', data_p)"
   ]
  }
 ],
 "metadata": {
  "kernelspec": {
   "display_name": "mat-search",
   "language": "python",
   "name": "mat-search"
  },
  "language_info": {
   "codemirror_mode": {
    "name": "ipython",
    "version": 3
   },
   "file_extension": ".py",
   "mimetype": "text/x-python",
   "name": "python",
   "nbconvert_exporter": "python",
   "pygments_lexer": "ipython3",
   "version": "3.8.5"
  }
 },
 "nbformat": 4,
 "nbformat_minor": 4
}
