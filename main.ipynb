{
 "cells": [
  {
   "cell_type": "markdown",
   "metadata": {},
   "source": [
    "# **Material Search**\n",
    "\n",
    "> This notebook is to be used for the Data Science MSc Thesis of Gustavo Fonseca. Data is provided by Mota Engil and should support the Supply Chain in the Mota-Engil group.\n",
    "\n",
    "---\n",
    "\n",
    "## **Introduction**\n",
    "\n",
    "**Objective**: cluster the materials by similarity to each other. Ideally we are going to be able to categorize according to the similarity of the materials.\n",
    "\n",
    "I start by:\n",
    "1. Exploring the dataset and showing why I end up not using a lot of information;\n",
    "2. Test levenshtein distance betweeen words and custom distance metric for sentences that uses word levenshtein distance;\n",
    "3. Optimize the code in order to be able to process all the materials;\n",
    "4. Apply a Nearest Neighbors algorithm to obtain clusters.\n",
    "\n",
    "## **Imports**"
   ]
  },
  {
   "cell_type": "code",
   "execution_count": 1,
   "metadata": {},
   "outputs": [
    {
     "name": "stdout",
     "output_type": "stream",
     "text": [
      "UTF-8\n"
     ]
    }
   ],
   "source": [
    "# Imports to get data from Azure\n",
    "import json\n",
    "import textwrap\n",
    "import unicodedata as unic\n",
    "from collections import Counter\n",
    "import re\n",
    "import string\n",
    "import urllib\n",
    "\n",
    "# Standard imports\n",
    "import pandas as pd\n",
    "from matplotlib import pyplot as plt\n",
    "import seaborn as sns\n",
    "import numpy as np\n",
    "import editdistance as ed\n",
    "import pyodbc\n",
    "import sqlalchemy\n",
    "\n",
    "# Text Processing\n",
    "import nltk\n",
    "from nltk import pos_tag\n",
    "from nltk.corpus import stopwords\n",
    "from nltk.stem import WordNetLemmatizer\n",
    "from nltk.corpus import wordnet\n",
    "\n",
    "# Clustering models\n",
    "from sklearn.cluster import DBSCAN\n",
    "from sklearn.neighbors import NearestNeighbors\n",
    "\n",
    "# MP for distance calculation\n",
    "from multiprocessing import cpu_count, Pool, sharedctypes\n",
    "\n",
    "import locale\n",
    "print(locale.getpreferredencoding())\n",
    "%matplotlib inline"
   ]
  },
  {
   "cell_type": "code",
   "execution_count": 2,
   "metadata": {},
   "outputs": [
    {
     "name": "stderr",
     "output_type": "stream",
     "text": [
      "[nltk_data] Downloading package stopwords to /home/dabin/nltk_data...\n",
      "[nltk_data]   Package stopwords is already up-to-date!\n",
      "[nltk_data] Downloading package averaged_perceptron_tagger to\n",
      "[nltk_data]     /home/dabin/nltk_data...\n",
      "[nltk_data]   Package averaged_perceptron_tagger is already up-to-\n",
      "[nltk_data]       date!\n",
      "[nltk_data] Downloading package wordnet to /home/dabin/nltk_data...\n",
      "[nltk_data]   Package wordnet is already up-to-date!\n"
     ]
    },
    {
     "data": {
      "text/plain": [
       "True"
      ]
     },
     "execution_count": 2,
     "metadata": {},
     "output_type": "execute_result"
    }
   ],
   "source": [
    "# Downloads needed for NLTK\n",
    "nltk.download(\"stopwords\")\n",
    "nltk.download(\"averaged_perceptron_tagger\")\n",
    "nltk.download(\"wordnet\")"
   ]
  },
  {
   "cell_type": "markdown",
   "metadata": {},
   "source": [
    "## **Connect and Extract the data from Azure SQL Database**\n",
    "\n",
    "Connect to SQL Database to Extract the data. I use an SQL Query to get more information from the materials."
   ]
  },
  {
   "cell_type": "code",
   "execution_count": 3,
   "metadata": {},
   "outputs": [],
   "source": [
    "GET_DATA = False\n",
    "\n",
    "if GET_DATA:\n",
    "    \n",
    "    # We load the secrets from a json file\n",
    "    with open('variables/variables.json') as f:\n",
    "          vars_ = json.load(f)\n",
    "\n",
    "\n",
    "    # Specify the Driver.\n",
    "    driver = '{ODBC Driver 17 for SQL Server}'\n",
    "\n",
    "    # Specify Server Name and Database Name.\n",
    "    server_name = vars_['server_name']\n",
    "    database = vars_['database']\n",
    "\n",
    "    # Create our Server URL.\n",
    "    server = f'{server_name}.database.windows.net,1433'\n",
    "\n",
    "    # Define Username & Password # TODO\n",
    "    login = vars_['login']\n",
    "    password = vars_['password']\n",
    "\n",
    "    # Create the full connection string.\n",
    "    connection_string = textwrap.dedent(f'''\n",
    "        Driver={driver};\n",
    "        Server={server};\n",
    "        Database={database};\n",
    "        Uid={login};\n",
    "        Pwd={password};\n",
    "        Encrypt=yes;\n",
    "        TrustServerCertificate=no;\n",
    "        Connection Timeout=30;\n",
    "    ''')\n",
    "\n",
    "    # Create a new PYODBC Connection Object\n",
    "    cnxn: pyodbc.Connection = pyodbc.connect(connection_string)\n",
    "\n",
    "    # Create a new Cursor Object from the connection\n",
    "    crsr: pyodbc.Cursor = cnxn.cursor()\n",
    "\n",
    "    # Define a select Query.\n",
    "    select_sql = \"\"\"\n",
    "    SELECT\n",
    "        zmm001.material_id, \n",
    "        CAST(zmm001.material_description AS VARCHAR(MAX)) AS material_description, \n",
    "        zmm001.material_group, \n",
    "        CAST(zmm001.material_group_description AS VARCHAR(MAX)) AS material_group_description, \n",
    "        zmm001.unit, \n",
    "        zmm001.material_type, \n",
    "        zmm001.created_date, \n",
    "        zmm001.last_change_date, \n",
    "        ISNULL(AVG(mb51_view.value_per_unit), '0') as average_price,\n",
    "        ISNULL(STDEV(mb51_view.value_per_unit), '0') as std_price,\n",
    "        ISNULL(COUNT(mb51_view.value_per_unit), '0') as count_movements\n",
    "    FROM proc_db.zmm001 AS zmm001\n",
    "    \n",
    "    LEFT JOIN (\n",
    "        SELECT material_id, movement_value_euro / quantity AS value_per_unit\n",
    "        FROM proc_db.mb51_view AS mb51_view\n",
    "        WHERE quantity > 0\n",
    "    ) AS mb51_view\n",
    "    ON mb51_view.material_id=zmm001.material_id\n",
    "    \n",
    "    GROUP BY\n",
    "        zmm001.material_id,\n",
    "        CAST(zmm001.material_description AS VARCHAR(MAX)),\n",
    "        zmm001.material_group,\n",
    "        CAST(zmm001.material_group_description AS VARCHAR(MAX)),\n",
    "        zmm001.unit,\n",
    "        zmm001.material_type,\n",
    "        zmm001.created_date,\n",
    "        zmm001.last_change_date\n",
    "    \"\"\"\n",
    "\n",
    "    # Read to Pandas\n",
    "    data = pd.read_sql(select_sql, cnxn)\n",
    "\n",
    "    # Close the connection once we are done\n",
    "    cnxn.close()\n",
    "    \n",
    "    data['created_date'] = pd.to_datetime(data['created_date'])\n",
    "    data['last_change_date'] = pd.to_datetime(data['last_change_date'])\n",
    "    data = data.replace(['', 'null', '#N/A'], [np.nan, np.nan, np.nan])\n",
    "    \n",
    "    data.to_csv('data/material_data.csv', index=False)\n",
    "\n",
    "else:\n",
    "    # In case we already have read the data from SQL, we already have saved it\n",
    "    # and we can load it directly from the folder.\n",
    "    data = pd.read_csv(\n",
    "        'data/material_data.csv', \n",
    "        dtype={\n",
    "            'material_id': str, \n",
    "            'material_description': str, \n",
    "            'material_group': str, \n",
    "            'material_group_description': str, \n",
    "            'unit': str, \n",
    "            'material_type': str, \n",
    "            'created_date': str, \n",
    "            'last_change_date': str,\n",
    "            'average_price': float,\n",
    "            'std_price': float,\n",
    "            'count_movements': int\n",
    "        },\n",
    "        parse_dates=['created_date', 'last_change_date'])"
   ]
  },
  {
   "cell_type": "markdown",
   "metadata": {},
   "source": [
    "## **Data Exploration**\n",
    "\n",
    "This section is focused in analysing the data and seeing their worth for the purpose of this project. We want data that would allow to calculate similarities between the materials"
   ]
  },
  {
   "cell_type": "code",
   "execution_count": null,
   "metadata": {},
   "outputs": [],
   "source": [
    "data.head()"
   ]
  },
  {
   "cell_type": "markdown",
   "metadata": {},
   "source": [
    "We start by fixing some found description problems:\n",
    "* 2+ white spaces are turned into only 1 space\n",
    "* NaNs are turned into None"
   ]
  },
  {
   "cell_type": "code",
   "execution_count": 5,
   "metadata": {},
   "outputs": [],
   "source": [
    "# Change 2 spacings to 1 spacing\n",
    "data = data.replace('\\s{2,}', ' ', regex=True)\n",
    "\n",
    "# NaN to None\n",
    "data = data.replace({np.nan: None})"
   ]
  },
  {
   "cell_type": "markdown",
   "metadata": {},
   "source": [
    "The following code gathers some general statistics for each of the columns so we can see if any of them is useful for identifying materials."
   ]
  },
  {
   "cell_type": "code",
   "execution_count": 6,
   "metadata": {},
   "outputs": [
    {
     "data": {
      "text/html": [
       "<div>\n",
       "<style scoped>\n",
       "    .dataframe tbody tr th:only-of-type {\n",
       "        vertical-align: middle;\n",
       "    }\n",
       "\n",
       "    .dataframe tbody tr th {\n",
       "        vertical-align: top;\n",
       "    }\n",
       "\n",
       "    .dataframe thead th {\n",
       "        text-align: right;\n",
       "    }\n",
       "</style>\n",
       "<table border=\"1\" class=\"dataframe\">\n",
       "  <thead>\n",
       "    <tr style=\"text-align: right;\">\n",
       "      <th></th>\n",
       "      <th>Cardinality</th>\n",
       "      <th>Nulls</th>\n",
       "      <th>Blank</th>\n",
       "      <th>Zeros</th>\n",
       "      <th>Min</th>\n",
       "      <th>Max</th>\n",
       "      <th>Dtype</th>\n",
       "    </tr>\n",
       "  </thead>\n",
       "  <tbody>\n",
       "    <tr>\n",
       "      <th>material_description</th>\n",
       "      <td>144558</td>\n",
       "      <td>1170</td>\n",
       "      <td>0</td>\n",
       "      <td>0</td>\n",
       "      <td>0</td>\n",
       "      <td>0</td>\n",
       "      <td>object</td>\n",
       "    </tr>\n",
       "    <tr>\n",
       "      <th>material_group</th>\n",
       "      <td>818</td>\n",
       "      <td>0</td>\n",
       "      <td>0</td>\n",
       "      <td>0</td>\n",
       "      <td>0</td>\n",
       "      <td>0</td>\n",
       "      <td>object</td>\n",
       "    </tr>\n",
       "    <tr>\n",
       "      <th>material_group_description</th>\n",
       "      <td>675</td>\n",
       "      <td>98</td>\n",
       "      <td>0</td>\n",
       "      <td>0</td>\n",
       "      <td>0</td>\n",
       "      <td>0</td>\n",
       "      <td>object</td>\n",
       "    </tr>\n",
       "    <tr>\n",
       "      <th>unit</th>\n",
       "      <td>40</td>\n",
       "      <td>0</td>\n",
       "      <td>0</td>\n",
       "      <td>0</td>\n",
       "      <td>0</td>\n",
       "      <td>0</td>\n",
       "      <td>object</td>\n",
       "    </tr>\n",
       "    <tr>\n",
       "      <th>material_type</th>\n",
       "      <td>7</td>\n",
       "      <td>0</td>\n",
       "      <td>0</td>\n",
       "      <td>0</td>\n",
       "      <td>0</td>\n",
       "      <td>0</td>\n",
       "      <td>object</td>\n",
       "    </tr>\n",
       "    <tr>\n",
       "      <th>created_date</th>\n",
       "      <td>504</td>\n",
       "      <td>0</td>\n",
       "      <td>0</td>\n",
       "      <td>0</td>\n",
       "      <td>2018-12-17</td>\n",
       "      <td>2021-08-30</td>\n",
       "      <td>datetime64[ns]</td>\n",
       "    </tr>\n",
       "    <tr>\n",
       "      <th>last_change_date</th>\n",
       "      <td>399</td>\n",
       "      <td>0</td>\n",
       "      <td>0</td>\n",
       "      <td>0</td>\n",
       "      <td>2019-04-12</td>\n",
       "      <td>2021-12-08</td>\n",
       "      <td>datetime64[ns]</td>\n",
       "    </tr>\n",
       "    <tr>\n",
       "      <th>average_price</th>\n",
       "      <td>115907</td>\n",
       "      <td>0</td>\n",
       "      <td>0</td>\n",
       "      <td>117715</td>\n",
       "      <td>0</td>\n",
       "      <td>1439956</td>\n",
       "      <td>float64</td>\n",
       "    </tr>\n",
       "    <tr>\n",
       "      <th>std_price</th>\n",
       "      <td>53086</td>\n",
       "      <td>0</td>\n",
       "      <td>0</td>\n",
       "      <td>184684</td>\n",
       "      <td>0</td>\n",
       "      <td>1102821</td>\n",
       "      <td>float64</td>\n",
       "    </tr>\n",
       "    <tr>\n",
       "      <th>count_movements</th>\n",
       "      <td>266</td>\n",
       "      <td>0</td>\n",
       "      <td>0</td>\n",
       "      <td>88926</td>\n",
       "      <td>0</td>\n",
       "      <td>4626</td>\n",
       "      <td>int64</td>\n",
       "    </tr>\n",
       "  </tbody>\n",
       "</table>\n",
       "</div>"
      ],
      "text/plain": [
       "                            Cardinality  Nulls  Blank   Zeros         Min  \\\n",
       "material_description             144558   1170      0       0           0   \n",
       "material_group                      818      0      0       0           0   \n",
       "material_group_description          675     98      0       0           0   \n",
       "unit                                 40      0      0       0           0   \n",
       "material_type                         7      0      0       0           0   \n",
       "created_date                        504      0      0       0  2018-12-17   \n",
       "last_change_date                    399      0      0       0  2019-04-12   \n",
       "average_price                    115907      0      0  117715           0   \n",
       "std_price                         53086      0      0  184684           0   \n",
       "count_movements                     266      0      0   88926           0   \n",
       "\n",
       "                                   Max           Dtype  \n",
       "material_description                 0          object  \n",
       "material_group                       0          object  \n",
       "material_group_description           0          object  \n",
       "unit                                 0          object  \n",
       "material_type                        0          object  \n",
       "created_date                2021-08-30  datetime64[ns]  \n",
       "last_change_date            2021-12-08  datetime64[ns]  \n",
       "average_price                  1439956         float64  \n",
       "std_price                      1102821         float64  \n",
       "count_movements                   4626           int64  "
      ]
     },
     "execution_count": 6,
     "metadata": {},
     "output_type": "execute_result"
    }
   ],
   "source": [
    "# Get the cardinality and number of null values for each column\n",
    "\n",
    "# Material is primary key therefore it is never null\n",
    "\n",
    "cols_to_check = [\n",
    "    'material_description',\n",
    "    'material_group',\n",
    "    'material_group_description',\n",
    "    'unit',\n",
    "    'material_type',\n",
    "    'created_date',\n",
    "    'last_change_date',\n",
    "]\n",
    "\n",
    "cols_numbers = [\n",
    "    'average_price',\n",
    "    'std_price',\n",
    "    'count_movements'\n",
    "]\n",
    "\n",
    "stats_data = np.empty([len(cols_to_check) +  len(cols_numbers), 6], dtype=int)\n",
    "types = []\n",
    "nr_words = []\n",
    "\n",
    "for i, col in enumerate(cols_to_check):\n",
    "    stats_data[i, :] = [len(data[col].unique()), (data[col].isnull()).sum(), (data[col]=='').sum(), 0, 0, 0]\n",
    "    types.append(data[col].dtype)\n",
    "    \n",
    "for i, col in enumerate(cols_numbers):\n",
    "    stats_data[i + 7, :] = [len(data[col].unique()), (data[col].isnull()).sum(), (data[col]=='').sum(), (data[col]==0).sum(), int(data[col].min()), int(data[col].max())]\n",
    "    types.append(data[col].dtype)\n",
    "    \n",
    "stats_data = pd.DataFrame(stats_data, columns=['Cardinality', 'Nulls', 'Blank', 'Zeros', 'Min', 'Max'], index=cols_to_check+cols_numbers)\n",
    "stats_data['Dtype'] = types\n",
    "\n",
    "\n",
    "for col in ['created_date', 'last_change_date']:\n",
    "    stats_data.loc[col, 'Min'] = data[col].dt.date.min()\n",
    "    stats_data.loc[col, 'Max'] = data[col].dt.date.max()\n",
    "\n",
    "stats_data.head(10)"
   ]
  },
  {
   "cell_type": "markdown",
   "metadata": {},
   "source": [
    "**average_price** and **std_price** have both a lot of zeros, which are indicative of no price information. These 0s represent more than 50% of the data. So I will proceed with eliminating these columns."
   ]
  },
  {
   "cell_type": "code",
   "execution_count": 7,
   "metadata": {},
   "outputs": [],
   "source": [
    "data = data.drop(columns=['average_price', 'std_price']) # delete columns"
   ]
  },
  {
   "cell_type": "markdown",
   "metadata": {},
   "source": [
    "The **created_date** and **last_change_date** can be indicative of similar seasonal needs but with so many diverse projects happening at the same time, it is also risky trying to infer anything with it."
   ]
  },
  {
   "cell_type": "code",
   "execution_count": 8,
   "metadata": {},
   "outputs": [],
   "source": [
    "data = data.drop(columns=['created_date', 'last_change_date'])"
   ]
  },
  {
   "cell_type": "markdown",
   "metadata": {},
   "source": [
    "A very big percentage of materials have no registered movement, therefore it should also be hard to cluster using this information. In any case this data can be used to sort the results from the material search in the end."
   ]
  },
  {
   "cell_type": "code",
   "execution_count": 9,
   "metadata": {},
   "outputs": [
    {
     "data": {
      "image/png": "[encoded data removed]",
      "text/plain": [
       "<Figure size 432x288 with 1 Axes>"
      ]
     },
     "metadata": {
      "needs_background": "light"
     },
     "output_type": "display_data"
    }
   ],
   "source": [
    "data['movements_category'] = data['count_movements'].apply(lambda x: '0' if x < 1 else '1+')\n",
    "ax = sns.countplot(data=data, x='movements_category')\n",
    "ax.set_xlabel('Number of movements')\n",
    "ax.set_title('Counts of movements');"
   ]
  },
  {
   "cell_type": "code",
   "execution_count": 10,
   "metadata": {},
   "outputs": [],
   "source": [
    "data = data.drop(columns=['count_movements', 'movements_category'])"
   ]
  },
  {
   "cell_type": "markdown",
   "metadata": {},
   "source": [
    "We can also delete the units. Sometimes they vary because users prefer to deal for example with: liters instead of other units, and that should not differentiate the different materials."
   ]
  },
  {
   "cell_type": "code",
   "execution_count": 11,
   "metadata": {},
   "outputs": [],
   "source": [
    "data = data.drop(columns=['unit'])"
   ]
  },
  {
   "cell_type": "code",
   "execution_count": null,
   "metadata": {},
   "outputs": [],
   "source": [
    "# End result\n",
    "data.head()"
   ]
  },
  {
   "cell_type": "markdown",
   "metadata": {},
   "source": [
    "> **Outcome**\n",
    "We will calculate distances between the material descriptions."
   ]
  },
  {
   "cell_type": "markdown",
   "metadata": {},
   "source": [
    "After several meetings, we know now that searches are done using two types of information: 1) Tools & Equipment part number, and 2) Material description. In this case we will filter only materials (ZMAT) from the dataset which are what users search for using the descriptions."
   ]
  },
  {
   "cell_type": "code",
   "execution_count": 13,
   "metadata": {},
   "outputs": [
    {
     "name": "stdout",
     "output_type": "stream",
     "text": [
      "All data is composed of 239583 rows\n",
      "Only ZMAT data is composed of 97037 rows\n"
     ]
    }
   ],
   "source": [
    "# Keep only ZMAT\n",
    "print(f\"All data is composed of {data.shape[0]} rows\")\n",
    "data = data[(data.material_type=='ZMAT')].copy()\n",
    "print(f\"Only ZMAT data is composed of {data.shape[0]} rows\")"
   ]
  },
  {
   "cell_type": "markdown",
   "metadata": {},
   "source": [
    "**material_group** is the **material_group_description** ID, and **material_type** we have only ZMAT, so we will eliminate both of these columns since they are no longer needed."
   ]
  },
  {
   "cell_type": "code",
   "execution_count": 14,
   "metadata": {},
   "outputs": [],
   "source": [
    "data.drop(columns=['material_group', 'material_type'], inplace=True)"
   ]
  },
  {
   "cell_type": "markdown",
   "metadata": {},
   "source": [
    "**material_group_description** and can be considered an already defined cluster of materials, so we can use them to calculate evaluation metrics with pseudo ground truth. They won't be reliable since there exist mixed types of groups: some are grouped by the brand (e.g. Volvo and Toyota) and others are grouped by their utility."
   ]
  },
  {
   "cell_type": "code",
   "execution_count": 15,
   "metadata": {},
   "outputs": [],
   "source": [
    "# We will save the MaterialGroupDescription for evaluating the results after\n",
    "ground_truth = data['material_group_description']\n",
    "data = data.drop(columns=['material_group_description'])"
   ]
  },
  {
   "cell_type": "markdown",
   "metadata": {},
   "source": [
    "# **Calculating Distances**\n",
    "\n",
    "For calculating distances between the materials, we will use the Levenshtein Distance for the words themselves, and increased distance for every unmatched word between the materials.\n",
    "\n",
    "### Data Cleaning\n",
    "\n",
    "First we create a new column with the cleaned up description."
   ]
  },
  {
   "cell_type": "code",
   "execution_count": null,
   "metadata": {},
   "outputs": [],
   "source": [
    "# first we turn the description into a cleaned version\n",
    "\n",
    "# function to extract type of word\n",
    "def get_wordnet_pos(pos_tag):\n",
    "    if pos_tag.startswith('J'):\n",
    "        return wordnet.ADJ\n",
    "    elif pos_tag.startswith('V'):\n",
    "        return wordnet.VERB\n",
    "    elif pos_tag.startswith('N'):\n",
    "        return wordnet.NOUN\n",
    "    elif pos_tag.startswith('R'):\n",
    "        return wordnet.ADV\n",
    "    else:\n",
    "        return wordnet.NOUN\n",
    "\n",
    "\n",
    "# multiple functions to clean the t\n",
    "def clean_text(text):\n",
    "    # clean any unicode formatting left\n",
    "    text = unic.normalize(\"NFKD\", text)\n",
    "    # lower text\n",
    "    text = text.lower()\n",
    "    # tokenize text and remove puncutation\n",
    "    text = [word.strip(string.punctuation) for word in text.split(\" \")]\n",
    "    # replace the rest of the punctuation by space\n",
    "    text = ' '.join(text)\n",
    "    text = [w for w in re.split('\\.|\\-|\\s|\\,|\\(|\\_|\\d', text)]\n",
    "    # remove words that contain numbers\n",
    "    text = [word for word in text if not any(c.isdigit() for c in word)]\n",
    "    # remove stop words | Not really needed\n",
    "    stop = stopwords.words('english')\n",
    "    text = [x for x in text if x not in stop]\n",
    "    # remove empty\n",
    "    text = [t for t in text if len(t) > 1]\n",
    "    # pos tag text\n",
    "    pos_tags = pos_tag(text)\n",
    "    # lemmatize text\n",
    "    text = [WordNetLemmatizer().lemmatize(t[0],  get_wordnet_pos(t[1])) for t in pos_tags]\n",
    "    # remove words with only one letter\n",
    "    text = [t for t in text if len(t) > 2]\n",
    "    # join all\n",
    "    text = \" \".join(text)\n",
    "    return(text)\n",
    "\n",
    "# clean text data\n",
    "data[\"clean_description\"] = data[\"material_description\"].apply(lambda x: clean_text(x) if x is not None else \"\")\n",
    "data.head()"
   ]
  },
  {
   "cell_type": "markdown",
   "metadata": {},
   "source": [
    "Now that we have the cleaned up descriptions, we can see what are the most common words in them."
   ]
  },
  {
   "cell_type": "code",
   "execution_count": 17,
   "metadata": {},
   "outputs": [
    {
     "data": {
      "image/png": "[encoded data removed]",
      "text/plain": [
       "<Figure size 720x360 with 1 Axes>"
      ]
     },
     "metadata": {
      "needs_background": "light"
     },
     "output_type": "display_data"
    }
   ],
   "source": [
    "# Top 10 words after cleaning\n",
    "top10words_df = pd.DataFrame(Counter(\" \".join(data[\"clean_description\"]).split()).most_common(10), columns=['Words', 'Occurences'])\n",
    "plt.figure(figsize=(10,5))\n",
    "ax = sns.barplot(data=top10words_df, x='Words', y='Occurences')\n",
    "ax.set_title('Top 10 words in the descriptions')\n",
    "plt.savefig('images/top10words.png');"
   ]
  },
  {
   "cell_type": "markdown",
   "metadata": {},
   "source": [
    "Since the cleanup returned empty strings for some materials, we will consider them undefined materials"
   ]
  },
  {
   "cell_type": "code",
   "execution_count": 18,
   "metadata": {},
   "outputs": [],
   "source": [
    "# missing description will be set to undefined\n",
    "data.loc[data.clean_description.str.contains('^\\s*$'), 'clean_description'] = 'undefined'"
   ]
  },
  {
   "cell_type": "markdown",
   "metadata": {},
   "source": [
    "Now that we have clean descriptions, we can now focus on calculating distances between the different texts with the levenshtein distance both for words and then for sentences.\n",
    "\n",
    "### **Levenshtein distance for words**\n",
    "\n",
    "To start, with the levenshtein distance, we have a custom function:"
   ]
  },
  {
   "cell_type": "code",
   "execution_count": 19,
   "metadata": {},
   "outputs": [],
   "source": [
    "def levenshtein_dist_word(token1, token2):\n",
    "    \"\"\"Levenshtein distance for words.\"\"\"\n",
    "    \n",
    "    # We start by getting the lengths of each word\n",
    "    m = len(token1)\n",
    "    n = len(token2)\n",
    "    \n",
    "    # The distance matrix is initialized\n",
    "    distances = np.zeros((m + 1, n + 1))\n",
    "    # Setting of 1 to N+1 and M+1 in side of matrix\n",
    "    for t1 in range(m + 1):\n",
    "        distances[t1][0] = t1\n",
    "    for t2 in range(n + 1):\n",
    "        distances[0][t2] = t2\n",
    "            \n",
    "    # We build the matrix similarity\n",
    "    for t1 in range(1, m + 1):\n",
    "        for t2 in range(1, n + 1):\n",
    "            # If the letter is the same the value will be the same as the upper left value\n",
    "            if (token1[t1-1] == token2[t2-1]):\n",
    "                distances[t1][t2] = distances[t1 - 1][t2 - 1]\n",
    "            else:\n",
    "                # Insertion value is above\n",
    "                insertion = distances[t1][t2 - 1]\n",
    "                # Deletion value is to the left\n",
    "                deletion = distances[t1 - 1][t2]\n",
    "                # Substitution is upper left\n",
    "                substitution = distances[t1 - 1][t2 - 1]\n",
    "                \n",
    "                # If insertion is a minimum value, we use that value and give it a penalty of 1\n",
    "                if (insertion <= deletion and insertion <= substitution):\n",
    "                    distances[t1][t2] = insertion + 1\n",
    "                # If deletion is a minimum value, we use that value and give it a penalty of 1\n",
    "                elif (deletion <= insertion and deletion <= substitution):\n",
    "                    distances[t1][t2] = deletion + 1\n",
    "                # If substitution is a minimum value, we use that value and give it a penalty of 1\n",
    "                else:\n",
    "                    distances[t1][t2] = substitution + 1\n",
    "\n",
    "    # We take the lower right value of the matrix\n",
    "    final_dist = distances[-1][-1]\n",
    "    # Calculate how much of the word has changed\n",
    "    lword = max(m,n)\n",
    "    ratio = (lword - final_dist) / lword \n",
    "    \n",
    "    # Some words are incomplete so we check the matrix to see if there is any word\n",
    "    # that is the incomplete version of the other.\n",
    "    \n",
    "    if (np.any(distances[:,-1]==0)) or (np.any(distances[-1,:]==0)):\n",
    "        ratio = 0.9\n",
    "        \n",
    "    # print_distances(distances, m, n)\n",
    "    \n",
    "    return final_dist"
   ]
  },
  {
   "cell_type": "code",
   "execution_count": 20,
   "metadata": {},
   "outputs": [
    {
     "name": "stdout",
     "output_type": "stream",
     "text": [
      "CPU times: user 479 µs, sys: 36 µs, total: 515 µs\n",
      "Wall time: 478 µs\n"
     ]
    },
    {
     "data": {
      "text/plain": [
       "11.0"
      ]
     },
     "execution_count": 20,
     "metadata": {},
     "output_type": "execute_result"
    }
   ],
   "source": [
    "%%time\n",
    "\n",
    "levenshtein_dist_word('amazingfantasticoulosimundo', 'amazcoulosimundo')"
   ]
  },
  {
   "cell_type": "markdown",
   "metadata": {},
   "source": [
    "There are also some other alternatives, such as the `editdistance.eval` levenshtein distance, tested below:"
   ]
  },
  {
   "cell_type": "code",
   "execution_count": 21,
   "metadata": {},
   "outputs": [
    {
     "name": "stdout",
     "output_type": "stream",
     "text": [
      "CPU times: user 10 µs, sys: 1 µs, total: 11 µs\n",
      "Wall time: 13.4 µs\n"
     ]
    },
    {
     "data": {
      "text/plain": [
       "11"
      ]
     },
     "execution_count": 21,
     "metadata": {},
     "output_type": "execute_result"
    }
   ],
   "source": [
    "%%time\n",
    "\n",
    "ed.eval('amazingfantasticoulosimundo', 'amazcoulosimundo')"
   ]
  },
  {
   "cell_type": "markdown",
   "metadata": {},
   "source": [
    "`editdistance` package is implemented in Cython and C++ which makes it way faster than the manually implemented one. So we will continue with the editdistance levenshtein distance calculation. Even though it is not adjusted to give more value to incomplete words of others (i.e. galv and galvanized).\n",
    "\n",
    "\n",
    "The next function uses this function inside a sentence distance function to determine if a word is similar enough to another. In the sentence, the order of the words does not matter and this function reflects that."
   ]
  },
  {
   "cell_type": "code",
   "execution_count": 22,
   "metadata": {},
   "outputs": [],
   "source": [
    "def dist_sentence(sentence_1, sentence_2):\n",
    "    \"\"\"Distance for sentence adapted from levenshtein but with no fixed order.\"\"\"\n",
    "    initial = sentence_1 + \"|\" + sentence_2\n",
    "    \n",
    "    sentence_1_set = set(sentence_1.split(' '))\n",
    "    sentence_2_set = set(sentence_2.split(' '))\n",
    "    \n",
    "    # Get the maximum length of the sentences to use in the end\n",
    "    # when we have to calculate the percentage of difference between \n",
    "    # both sentences.\n",
    "    ln_max = max(len(sentence_1_set), len(sentence_2_set))\n",
    "    \n",
    "    # Remove common words\n",
    "    sentence_1_list = list(sentence_1_set - sentence_2_set)\n",
    "    sentence_2_list = list(sentence_2_set - sentence_1_set)\n",
    "    \n",
    "    # Get the current lengths\n",
    "    m = len(sentence_1_list)\n",
    "    n = len(sentence_2_list)\n",
    "    ln = max(m, n)\n",
    "\n",
    "    # Initialize distance variable\n",
    "    distance = 0\n",
    "    \n",
    "    # Find similar words\n",
    "    for i, s1 in enumerate(sentence_1_list):\n",
    "        # Continue if there are still values in sentence_2 list\n",
    "        if sentence_2_list:\n",
    "            values = np.zeros((1, n))\n",
    "            for j, s2 in enumerate(sentence_2_list):\n",
    "                l_word = max(len(s1),len(s2))\n",
    "                values[0,j] = ed.eval(s1, s2) / l_word\n",
    "            try:\n",
    "                value = np.amin(values)\n",
    "            except:\n",
    "                print(initial)\n",
    "            if value < 0.33:\n",
    "                index = np.argmin(values)\n",
    "                # Add relative leven distance to distance\n",
    "                distance += value\n",
    "                # Remove the tokens\n",
    "                sentence_2_list.remove(sentence_2_list[index])\n",
    "                ln -= 1\n",
    "                n -= 1\n",
    "    \n",
    "    # Add the missing values that weren't matched\n",
    "    distance += ln\n",
    "    \n",
    "    return int((distance / ln_max) * 100)"
   ]
  },
  {
   "cell_type": "code",
   "execution_count": 24,
   "metadata": {},
   "outputs": [
    {
     "name": "stdout",
     "output_type": "stream",
     "text": [
      "Distance between 'horse likes water' and 'morse likes milk' is 40\n"
     ]
    }
   ],
   "source": [
    "# Example\n",
    "\n",
    "distance = dist_sentence(\"horse likes water\", \"morse likes milk\")\n",
    "print(f\"Distance between 'horse likes water' and 'morse likes milk' is {distance}\")"
   ]
  },
  {
   "cell_type": "markdown",
   "metadata": {},
   "source": [
    "For calculating the distance between descriptions:\n",
    "* gives a penalty of 1 for each different word, in this last example we have one different word.\n",
    "* gives a partial penalty [0,1] when it has one similar word (morse -> horse) this is a normalized penalty according to the max word length. For this case we have one letter substitution from a five letter word therefore -> 0.2 of the word. Summed up we have 1 + 0.2 = 1.2. Then we divide the max number of words by this sum, so it is 1.2 / 3.0 = 0.4. To obtain an int8 distance matrix to save memory, we multiply the value by 100 and change to INT value. "
   ]
  },
  {
   "cell_type": "markdown",
   "metadata": {},
   "source": [
    "### **Testing Distance Matrix calculation**\n",
    "\n",
    "### Single processing test"
   ]
  },
  {
   "cell_type": "code",
   "execution_count": 25,
   "metadata": {},
   "outputs": [],
   "source": [
    "# Extract data\n",
    "X = np.asarray(data['clean_description'].head(1000))\n",
    "\n",
    "# Create the final output table to fill in\n",
    "FINAL_OUTPUT = np.zeros((len(X),len(X)), dtype=np.int8)"
   ]
  },
  {
   "cell_type": "code",
   "execution_count": 26,
   "metadata": {},
   "outputs": [],
   "source": [
    "def apply_leven(i, data):\n",
    "    \"\"\"Single processing function to apply sentence distance calculation.\"\"\"\n",
    "    \n",
    "    # Only calculate distance matrix for the required values,\n",
    "    # because the matrix is symetrical and the diagonal results are all 0\n",
    "    j_start = i + 1\n",
    "    s1 = data[i]\n",
    "    for j, s2 in enumerate(data):\n",
    "        if j < j_start:\n",
    "            FINAL_OUTPUT[i,j] = 0\n",
    "        else:\n",
    "            FINAL_OUTPUT[i,j] = dist_sentence(s1, s2)"
   ]
  },
  {
   "cell_type": "code",
   "execution_count": 27,
   "metadata": {},
   "outputs": [
    {
     "name": "stdout",
     "output_type": "stream",
     "text": [
      "CPU times: user 10.8 s, sys: 3.38 ms, total: 10.8 s\n",
      "Wall time: 10.8 s\n"
     ]
    },
    {
     "data": {
      "text/plain": [
       "array([[  0, 959, 410, ..., 340, 327, 999],\n",
       "       [  1, 164,  17, ..., 342, 329, 999],\n",
       "       [686,   2, 687, ..., 342, 329, 999],\n",
       "       ...,\n",
       "       [997, 655, 659, ..., 342, 329, 999],\n",
       "       [998, 655, 997, ..., 341, 328, 999],\n",
       "       [999, 916, 961, ..., 340, 327, 998]])"
      ]
     },
     "execution_count": 27,
     "metadata": {},
     "output_type": "execute_result"
    }
   ],
   "source": [
    "%%time\n",
    "\n",
    "# Apply function with a for loop\n",
    "for i in range(len(X)):\n",
    "    apply_leven(i, X)\n",
    "\n",
    "# Fill in the rest of the matrix\n",
    "FINAL_OUTPUT += FINAL_OUTPUT.T\n",
    "\n",
    "nbrs = NearestNeighbors(n_neighbors=1000, metric=\"precomputed\").fit(FINAL_OUTPUT)\n",
    "distances, indices = nbrs.kneighbors(FINAL_OUTPUT)\n",
    "indices"
   ]
  },
  {
   "cell_type": "markdown",
   "metadata": {},
   "source": [
    "### Multiprocessing test to improve speed"
   ]
  },
  {
   "cell_type": "code",
   "execution_count": 29,
   "metadata": {},
   "outputs": [],
   "source": [
    "# Create the matrix and make it a shared array to be accessed by the different workers\n",
    "FINAL_OUTPUT_RAW = np.zeros((len(X), len(X)), dtype=np.int8)\n",
    "C_TYPE_OUTPUT = np.ctypeslib.as_ctypes(FINAL_OUTPUT_RAW)\n",
    "SHARED_ARRAY = sharedctypes.RawArray(C_TYPE_OUTPUT._type_, C_TYPE_OUTPUT)"
   ]
  },
  {
   "cell_type": "code",
   "execution_count": 30,
   "metadata": {},
   "outputs": [],
   "source": [
    "def apply_leven_mp(i, data):\n",
    "    \"\"\"Multiprocessing function to apply sentence distance calculation.\"\"\"\n",
    "    j_start = i + 1\n",
    "    s1 = data[i]\n",
    "    \n",
    "    # Get the shared array\n",
    "    TMP = np.ctypeslib.as_array(SHARED_ARRAY)\n",
    "\n",
    "    for j, s2 in enumerate(data):\n",
    "        if j < j_start:\n",
    "            TMP[i, j] = 0\n",
    "        else:\n",
    "            TMP[i, j] = dist_sentence(s1, s2)"
   ]
  },
  {
   "cell_type": "code",
   "execution_count": 31,
   "metadata": {},
   "outputs": [
    {
     "name": "stdout",
     "output_type": "stream",
     "text": [
      "CPU times: user 195 ms, sys: 123 ms, total: 318 ms\n",
      "Wall time: 2.2 s\n"
     ]
    },
    {
     "data": {
      "text/plain": [
       "array([[  0, 959, 410, ..., 340, 327, 999],\n",
       "       [  1, 164,  17, ..., 342, 329, 999],\n",
       "       [686,   2, 687, ..., 342, 329, 999],\n",
       "       ...,\n",
       "       [997, 655, 659, ..., 342, 329, 999],\n",
       "       [998, 655, 997, ..., 341, 328, 999],\n",
       "       [999, 916, 961, ..., 340, 327, 998]])"
      ]
     },
     "execution_count": 31,
     "metadata": {},
     "output_type": "execute_result"
    }
   ],
   "source": [
    "%%time\n",
    "\n",
    "pool = Pool(processes=cpu_count())\n",
    "args = [(i, X) for i in range(len(X))]\n",
    "res = pool.starmap(apply_leven_mp, args)\n",
    "FINAL_OUTPUT_MP = np.ctypeslib.as_array(SHARED_ARRAY)\n",
    "\n",
    "# Fill in the rest of the matrix\n",
    "FINAL_OUTPUT_MP += FINAL_OUTPUT_MP.T\n",
    "\n",
    "nbrs = NearestNeighbors(n_neighbors=1000, metric=\"precomputed\").fit(FINAL_OUTPUT_MP)\n",
    "distances, indices = nbrs.kneighbors(FINAL_OUTPUT_MP)\n",
    "indices"
   ]
  },
  {
   "cell_type": "code",
   "execution_count": 32,
   "metadata": {},
   "outputs": [
    {
     "name": "stdout",
     "output_type": "stream",
     "text": [
      "Matrices are the same!\n"
     ]
    }
   ],
   "source": [
    "if (FINAL_OUTPUT==FINAL_OUTPUT_MP).all():\n",
    "    print(\"Matrices are the same!\")"
   ]
  },
  {
   "cell_type": "markdown",
   "metadata": {},
   "source": [
    "### Using DBSCAN Processing\n",
    "\n",
    "We will still apply DBSCAN in the next section, but before proceding we are going to show how the distance function could be applied to `sklearn.cluster.dbscan` metric parameter"
   ]
  },
  {
   "cell_type": "code",
   "execution_count": 33,
   "metadata": {},
   "outputs": [
    {
     "name": "stdout",
     "output_type": "stream",
     "text": [
      "CPU times: user 11 s, sys: 4.14 ms, total: 11 s\n",
      "Wall time: 11 s\n"
     ]
    },
    {
     "data": {
      "text/plain": [
       "array([[  0, 959, 410, ..., 340, 327, 999],\n",
       "       [  1, 164,  17, ..., 342, 329, 999],\n",
       "       [686,   2, 687, ..., 342, 329, 999],\n",
       "       ...,\n",
       "       [997, 655, 659, ..., 342, 329, 999],\n",
       "       [998, 655, 997, ..., 341, 328, 999],\n",
       "       [999, 916, 961, ..., 340, 327, 998]])"
      ]
     },
     "execution_count": 33,
     "metadata": {},
     "output_type": "execute_result"
    }
   ],
   "source": [
    "%%time\n",
    "# Function to get the strings using integers for their index in dataset\n",
    "def lev_metric(x, y):\n",
    "    i, j = int(x[0]), int(y[0])     # extract indices\n",
    "    return dist_sentence(X[i], X[j])\n",
    "\n",
    "\n",
    "X_ints = np.arange(len(X)).reshape(-1, 1)\n",
    "\n",
    "nbrs = NearestNeighbors(n_neighbors=1000, metric=lev_metric).fit(X_ints)\n",
    "distances, indices = nbrs.kneighbors(X_ints)\n",
    "indices"
   ]
  },
  {
   "cell_type": "code",
   "execution_count": 34,
   "metadata": {},
   "outputs": [
    {
     "name": "stdout",
     "output_type": "stream",
     "text": [
      "CPU times: user 27.6 s, sys: 325 ms, total: 28 s\n",
      "Wall time: 27.1 s\n"
     ]
    },
    {
     "data": {
      "text/plain": [
       "array([[  0, 959, 410, ..., 340, 327, 999],\n",
       "       [  1, 164,  17, ..., 342, 329, 999],\n",
       "       [686,   2, 687, ..., 342, 329, 999],\n",
       "       ...,\n",
       "       [997, 655, 659, ..., 342, 329, 999],\n",
       "       [998, 655, 997, ..., 341, 328, 999],\n",
       "       [999, 916, 961, ..., 340, 327, 998]])"
      ]
     },
     "execution_count": 34,
     "metadata": {},
     "output_type": "execute_result"
    }
   ],
   "source": [
    "%%time\n",
    "## We can also try using all the processors with the parameter n_jobs\n",
    "nbrs = NearestNeighbors(n_neighbors=1000, metric=lev_metric,n_jobs=-1).fit(X_ints)\n",
    "distances, indices = nbrs.kneighbors(X_ints)\n",
    "indices"
   ]
  },
  {
   "cell_type": "markdown",
   "metadata": {},
   "source": [
    "Interestingly, the DBSCAN processing with all processors seems to take more time, this might be because it is not taking proper advantage of using it with this function and should be getting a big penalty from the overhead.\n",
    "To better understand these variations, the following section will obtain the performance gains with each of the variations.\n",
    "\n",
    "### Measuring Performance"
   ]
  },
  {
   "cell_type": "code",
   "execution_count": 36,
   "metadata": {},
   "outputs": [
    {
     "name": "stdout",
     "output_type": "stream",
     "text": [
      "======================PROCESS SIZE 10 =======================\n",
      "Time to process size 10 with one process was: 0.00190902s.\n",
      "Time to process size 10 with MP was: 0.126538s.\n",
      "Matrices are the same!\n",
      "Time to process size 10 with NearestNeighbors singleprocessing was: 0.00199699s.\n",
      "Time to process size 10 with NearestNeighbors MP was: 0.00744843s.\n",
      "======================PROCESS SIZE 20 =======================\n",
      "Time to process size 20 with one process was: 0.00370955s.\n",
      "Time to process size 20 with MP was: 0.12021s.\n",
      "Matrices are the same!\n",
      "Time to process size 20 with NearestNeighbors singleprocessing was: 0.00380874s.\n",
      "Time to process size 20 with NearestNeighbors MP was: 0.0131502s.\n",
      "======================PROCESS SIZE 50 =======================\n",
      "Time to process size 50 with one process was: 0.0238829s.\n",
      "Time to process size 50 with MP was: 0.116362s.\n",
      "Matrices are the same!\n",
      "Time to process size 50 with NearestNeighbors singleprocessing was: 0.0249059s.\n",
      "Time to process size 50 with NearestNeighbors MP was: 0.054287s.\n",
      "======================PROCESS SIZE 100 =======================\n",
      "Time to process size 100 with one process was: 0.0927591s.\n",
      "Time to process size 100 with MP was: 0.129669s.\n",
      "Matrices are the same!\n",
      "Time to process size 100 with NearestNeighbors singleprocessing was: 0.0943251s.\n",
      "Time to process size 100 with NearestNeighbors MP was: 0.291466s.\n",
      "======================PROCESS SIZE 200 =======================\n",
      "Time to process size 200 with one process was: 0.424436s.\n",
      "Time to process size 200 with MP was: 0.239817s.\n",
      "Matrices are the same!\n",
      "Time to process size 200 with NearestNeighbors singleprocessing was: 0.40064s.\n",
      "Time to process size 200 with NearestNeighbors MP was: 0.945822s.\n",
      "======================PROCESS SIZE 300 =======================\n",
      "Time to process size 300 with one process was: 0.902436s.\n",
      "Time to process size 300 with MP was: 0.285063s.\n",
      "Matrices are the same!\n",
      "Time to process size 300 with NearestNeighbors singleprocessing was: 0.925737s.\n",
      "Time to process size 300 with NearestNeighbors MP was: 2.36687s.\n",
      "======================PROCESS SIZE 400 =======================\n",
      "Time to process size 400 with one process was: 1.64246s.\n",
      "Time to process size 400 with MP was: 0.423281s.\n",
      "Matrices are the same!\n",
      "Time to process size 400 with NearestNeighbors singleprocessing was: 1.61218s.\n",
      "Time to process size 400 with NearestNeighbors MP was: 3.78714s.\n",
      "======================PROCESS SIZE 500 =======================\n",
      "Time to process size 500 with one process was: 2.62475s.\n",
      "Time to process size 500 with MP was: 0.660114s.\n",
      "Matrices are the same!\n",
      "Time to process size 500 with NearestNeighbors singleprocessing was: 2.60318s.\n",
      "Time to process size 500 with NearestNeighbors MP was: 6.40312s.\n",
      "======================PROCESS SIZE 600 =======================\n",
      "Time to process size 600 with one process was: 3.62727s.\n",
      "Time to process size 600 with MP was: 0.829095s.\n",
      "Matrices are the same!\n",
      "Time to process size 600 with NearestNeighbors singleprocessing was: 3.84641s.\n",
      "Time to process size 600 with NearestNeighbors MP was: 9.75793s.\n",
      "======================PROCESS SIZE 700 =======================\n",
      "Time to process size 700 with one process was: 5.00095s.\n",
      "Time to process size 700 with MP was: 1.11191s.\n",
      "Matrices are the same!\n",
      "Time to process size 700 with NearestNeighbors singleprocessing was: 5.21353s.\n",
      "Time to process size 700 with NearestNeighbors MP was: 14.1029s.\n",
      "======================PROCESS SIZE 800 =======================\n",
      "Time to process size 800 with one process was: 6.49515s.\n",
      "Time to process size 800 with MP was: 1.39808s.\n",
      "Matrices are the same!\n",
      "Time to process size 800 with NearestNeighbors singleprocessing was: 6.74691s.\n",
      "Time to process size 800 with NearestNeighbors MP was: 18.2235s.\n",
      "======================PROCESS SIZE 900 =======================\n",
      "Time to process size 900 with one process was: 8.47669s.\n",
      "Time to process size 900 with MP was: 1.85543s.\n",
      "Matrices are the same!\n",
      "Time to process size 900 with NearestNeighbors singleprocessing was: 8.85793s.\n",
      "Time to process size 900 with NearestNeighbors MP was: 22.1731s.\n",
      "======================PROCESS SIZE 1000 =======================\n",
      "Time to process size 1000 with one process was: 10.9978s.\n",
      "Time to process size 1000 with MP was: 2.21203s.\n",
      "Matrices are the same!\n",
      "Time to process size 1000 with NearestNeighbors singleprocessing was: 11.0012s.\n",
      "Time to process size 1000 with NearestNeighbors MP was: 26.7308s.\n",
      "======================PROCESS SIZE 1500 =======================\n",
      "Time to process size 1500 with one process was: 24.085s.\n",
      "Time to process size 1500 with MP was: 4.82571s.\n",
      "Matrices are the same!\n",
      "Time to process size 1500 with NearestNeighbors singleprocessing was: 25.1414s.\n",
      "Time to process size 1500 with NearestNeighbors MP was: 65.3543s.\n",
      "======================PROCESS SIZE 2000 =======================\n",
      "Time to process size 2000 with one process was: 42.5494s.\n",
      "Time to process size 2000 with MP was: 8.44866s.\n",
      "Matrices are the same!\n",
      "Time to process size 2000 with NearestNeighbors singleprocessing was: 44.345s.\n",
      "Time to process size 2000 with NearestNeighbors MP was: 108.826s.\n"
     ]
    }
   ],
   "source": [
    "import time\n",
    "\n",
    "sizes = [10,20,50,100,200,300, 400, 500, 600, 700, 800, 900, 1000,1500, 2000]\n",
    "times_simple = []\n",
    "times_mp = []\n",
    "times_nbrs = []\n",
    "times_nbrs_mp = []\n",
    "\n",
    "for size in sizes:\n",
    "    print(f\"======================PROCESS SIZE {size} =======================\")\n",
    "    # Simple processing\n",
    "    X = np.asarray(data['clean_description'].head(size))\n",
    "    \n",
    "    start = time.time()\n",
    "    FINAL_OUTPUT = np.zeros((len(X),len(X)), dtype=np.int8)\n",
    "    \n",
    "    for i in range(len(X)):\n",
    "        apply_leven(i, X)\n",
    "    \n",
    "    FINAL_OUTPUT += FINAL_OUTPUT.T\n",
    "    nbrs = NearestNeighbors(n_neighbors=size, metric=\"precomputed\").fit(FINAL_OUTPUT)\n",
    "    _, _ = nbrs.kneighbors(FINAL_OUTPUT)\n",
    "    end = time.time()\n",
    "    times_simple.append(end-start)\n",
    "    print(f\"Time to process size {size} with one process was: {end-start:.6}s.\")\n",
    "\n",
    "    \n",
    "    # Multiprocessing\n",
    "    start = time.time()\n",
    "    FINAL_OUTPUT_RAW = np.zeros((len(X), len(X)), dtype=np.int8)\n",
    "    C_TYPE_OUTPUT = np.ctypeslib.as_ctypes(FINAL_OUTPUT_RAW)\n",
    "    SHARED_ARRAY = sharedctypes.RawArray(C_TYPE_OUTPUT._type_, C_TYPE_OUTPUT)\n",
    "    \n",
    "    pool = Pool(processes=cpu_count())\n",
    "    args = [(i, X) for i in range(len(X))]\n",
    "    res = pool.starmap(apply_leven_mp, args)\n",
    "    FINAL_OUTPUT_MP = np.ctypeslib.as_array(SHARED_ARRAY)\n",
    "    \n",
    "    FINAL_OUTPUT_MP += FINAL_OUTPUT_MP.T\n",
    "    nbrs = NearestNeighbors(n_neighbors=size, metric=\"precomputed\").fit(FINAL_OUTPUT_MP)\n",
    "    _, _ = nbrs.kneighbors(FINAL_OUTPUT_MP)\n",
    "    end = time.time()\n",
    "    times_mp.append(end-start)\n",
    "    print(f\"Time to process size {size} with MP was: {end-start:.6}s.\")\n",
    "    \n",
    "        \n",
    "    if (FINAL_OUTPUT==FINAL_OUTPUT_MP).all():\n",
    "        print(\"Matrices are the same!\")\n",
    "        \n",
    "    \n",
    "    # SKLean DBSCAN processing\n",
    "    start = time.time()\n",
    "    X_ints = np.arange(len(X)).reshape(-1, 1)\n",
    "    nbrs = NearestNeighbors(n_neighbors=size, metric=lev_metric).fit(X_ints)\n",
    "    _, _ = nbrs.kneighbors(X_ints)\n",
    "    end = time.time()\n",
    "    times_nbrs.append(end-start)\n",
    "    print(f\"Time to process size {size} with NearestNeighbors singleprocessing was: {end-start:.6}s.\")\n",
    "    \n",
    "    \n",
    "    # SKLean DBSCAN Multiprocessing\n",
    "    start = time.time()\n",
    "    X_ints = np.arange(len(X)).reshape(-1, 1)\n",
    "    nbrs = NearestNeighbors(n_neighbors=size, metric=lev_metric, n_jobs=-1).fit(X_ints)\n",
    "    _, _ = nbrs.kneighbors(X_ints)\n",
    "    end = time.time()\n",
    "    times_nbrs_mp.append(end-start)\n",
    "    print(f\"Time to process size {size} with NearestNeighbors MP was: {end-start:.6}s.\")"
   ]
  },
  {
   "cell_type": "code",
   "execution_count": 37,
   "metadata": {},
   "outputs": [
    {
     "data": {
      "image/png": "[encoded data removed]",
      "text/plain": [
       "<Figure size 720x360 with 1 Axes>"
      ]
     },
     "metadata": {
      "needs_background": "light"
     },
     "output_type": "display_data"
    }
   ],
   "source": [
    "sns.set_palette(\"deep\")\n",
    "plt.figure(figsize=(10,5))\n",
    "plt.title('Execution times for single and multiprocessing of sentence distance.')\n",
    "plt.plot(sizes, times_simple, 'o-')\n",
    "plt.plot(sizes, times_mp, 'o-')\n",
    "plt.plot(sizes, times_nbrs, 'o-')\n",
    "plt.plot(sizes, times_nbrs_mp, 'o-')\n",
    "plt.legend(['Single', 'Multiprocessing', 'NearestNeighbors Single', 'NearestNeighbors MP'])\n",
    "plt.xlabel('data size')\n",
    "plt.ylabel('execution time (s)')\n",
    "plt.savefig('images/performance_gain.png')\n",
    "plt.show()"
   ]
  },
  {
   "cell_type": "markdown",
   "metadata": {},
   "source": [
    "We can clearly decide that using the custom multiprocessing function is the one that will save us the biggest ammount of time. So we will proceed with this path."
   ]
  }
 ],
 "metadata": {
  "kernelspec": {
   "display_name": "matsearch",
   "language": "python",
   "name": "matsearch"
  },
  "language_info": {
   "codemirror_mode": {
    "name": "ipython",
    "version": 3
   },
   "file_extension": ".py",
   "mimetype": "text/x-python",
   "name": "python",
   "nbconvert_exporter": "python",
   "pygments_lexer": "ipython3",
   "version": "3.8.10"
  }
 },
 "nbformat": 4,
 "nbformat_minor": 4
}
